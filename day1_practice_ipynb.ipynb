{
  "cells": [
    {
      "cell_type": "markdown",
      "metadata": {
        "id": "view-in-github",
        "colab_type": "text"
      },
      "source": [
        "<a href=\"https://colab.research.google.com/github/meronsyu/lecture-ai-engineering/blob/master/day1_practice_ipynb.ipynb\" target=\"_parent\"><img src=\"https://colab.research.google.com/assets/colab-badge.svg\" alt=\"Open In Colab\"/></a>"
      ]
    },
    {
      "cell_type": "markdown",
      "metadata": {
        "id": "gSpnWBP5ELSI"
      },
      "source": [
        "# 実践演習 Day 1：streamlitとFastAPIのデモ\n",
        "このノートブックでは以下の内容を学習します。\n",
        "\n",
        "- 必要なライブラリのインストールと環境設定\n",
        "- Hugging Faceからモデルを用いたStreamlitのデモアプリ\n",
        "- FastAPIとngrokを使用したAPIの公開方法\n",
        "\n",
        "演習を始める前に、HuggingFaceとngrokのアカウントを作成し、\n",
        "それぞれのAPIトークンを取得する必要があります。\n",
        "\n",
        "\n",
        "演習の時間では、以下の3つのディレクトリを順に説明します。\n",
        "\n",
        "1. 01_streamlit_UI\n",
        "2. 02_streamlit_app\n",
        "3. 03_FastAPI\n",
        "\n",
        "2つ目や3つ目からでも始められる様にノートブックを作成しています。\n",
        "\n",
        "復習の際にもこのノートブックを役立てていただければと思います。\n",
        "\n",
        "### 注意事項\n",
        "「02_streamlit_app」と「03_FastAPI」では、GPUを使用します。\n",
        "\n",
        "これらを実行する際は、Google Colab画面上のメニューから「編集」→ 「ノートブックの設定」\n",
        "\n",
        "「ハードウェアアクセラレーター」の項目の中から、「T4 GPU」を選択してください。\n",
        "\n",
        "このノートブックのデフォルトは「CPU」になっています。\n",
        "\n",
        "---"
      ]
    },
    {
      "cell_type": "markdown",
      "metadata": {
        "id": "OhtHkJOgELSL"
      },
      "source": [
        "# 環境変数の設定（1~3共有）\n"
      ]
    },
    {
      "cell_type": "markdown",
      "metadata": {
        "id": "Y-FjBp4MMQHM"
      },
      "source": [
        "GitHubから演習用のコードをCloneします。"
      ]
    },
    {
      "cell_type": "code",
      "execution_count": 1,
      "metadata": {
        "id": "AIXMavdDEP8U",
        "colab": {
          "base_uri": "https://localhost:8080/"
        },
        "outputId": "7aedeb38-c63a-4c25-fd5e-a63422a763a2"
      },
      "outputs": [
        {
          "output_type": "stream",
          "name": "stdout",
          "text": [
            "Cloning into 'lecture-ai-engineering'...\n",
            "remote: Enumerating objects: 41, done.\u001b[K\n",
            "remote: Counting objects: 100% (32/32), done.\u001b[K\n",
            "remote: Compressing objects: 100% (27/27), done.\u001b[K\n",
            "remote: Total 41 (delta 7), reused 5 (delta 5), pack-reused 9 (from 1)\u001b[K\n",
            "Receiving objects: 100% (41/41), 34.04 KiB | 536.00 KiB/s, done.\n",
            "Resolving deltas: 100% (7/7), done.\n"
          ]
        }
      ],
      "source": [
        "!git clone https://github.com/meronsyu/lecture-ai-engineering.git"
      ]
    },
    {
      "cell_type": "markdown",
      "metadata": {
        "id": "XC8n7yZ_vs1K"
      },
      "source": [
        "必要なAPIトークンを.envに設定します。\n",
        "\n",
        "「lecture-ai-engineering/day1」の配下に、「.env_template」ファイルが存在しています。\n",
        "\n",
        "隠しファイルのため表示されていない場合は、画面左側のある、目のアイコンの「隠しファイルの表示」ボタンを押してください。\n",
        "\n",
        "「.env_template」のファイル名を「.env」に変更します。「.env」ファイルを開くと、以下のような中身になっています。\n",
        "\n",
        "\n",
        "```\n",
        "HUGGINGFACE_TOKEN=\"hf-********\"\n",
        "NGROK_TOKEN=\"********\"\n",
        "```\n",
        "ダブルクオーテーションで囲まれた文字列をHuggingfaceのアクセストークンと、ngrokの認証トークンで書き変えてください。\n",
        "\n",
        "それぞれのアカウントが作成済みであれば、以下のURLからそれぞれのトークンを取得できます。\n",
        "\n",
        "- Huggingfaceのアクセストークン\n",
        "https://huggingface.co/docs/hub/security-tokens\n",
        "\n",
        "- ngrokの認証トークン\n",
        "https://dashboard.ngrok.com/get-started/your-authtoken\n",
        "\n",
        "書き換えたら、「.env」ファイルをローカルのPCにダウンロードしてください。\n",
        "\n",
        "「01_streamlit_UI」から「02_streamlit_app」へ進む際に、CPUからGPUの利用に切り替えるため、セッションが一度切れてしまいます。\n",
        "\n",
        "その際に、トークンを設定した「.env」ファイルは再作成することになるので、その手間を減らすために「.env」ファイルをダウンロードしておくと良いです。"
      ]
    },
    {
      "cell_type": "markdown",
      "metadata": {
        "id": "Py1BFS5RqcSS"
      },
      "source": [
        "「.env」ファイルを読み込み、環境変数として設定します。次のセルを実行し、最終的に「True」が表示されていればうまく読み込めています。"
      ]
    },
    {
      "cell_type": "code",
      "execution_count": 8,
      "metadata": {
        "id": "bvEowFfg5lrq",
        "colab": {
          "base_uri": "https://localhost:8080/"
        },
        "outputId": "acc7a226-804c-484d-e722-d3d615875eec"
      },
      "outputs": [
        {
          "output_type": "stream",
          "name": "stdout",
          "text": [
            "Requirement already satisfied: python-dotenv in /usr/local/lib/python3.11/dist-packages (1.1.0)\n",
            "/content/lecture-ai-engineering/day1\n"
          ]
        },
        {
          "output_type": "execute_result",
          "data": {
            "text/plain": [
              "True"
            ]
          },
          "metadata": {},
          "execution_count": 8
        }
      ],
      "source": [
        "!pip install python-dotenv\n",
        "from dotenv import load_dotenv, find_dotenv\n",
        "\n",
        "%cd /content/lecture-ai-engineering/day1\n",
        "load_dotenv(find_dotenv())"
      ]
    },
    {
      "cell_type": "markdown",
      "metadata": {
        "id": "os0Yk6gaELSM"
      },
      "source": [
        "# 01_streamlit_UI\n",
        "\n",
        "ディレクトリ「01_streamlit_UI」に移動します。"
      ]
    },
    {
      "cell_type": "code",
      "execution_count": null,
      "metadata": {
        "id": "S28XgOm0ELSM",
        "colab": {
          "base_uri": "https://localhost:8080/"
        },
        "outputId": "36fb22d2-b09d-4bee-df55-77d4ee3a7466"
      },
      "outputs": [
        {
          "output_type": "stream",
          "name": "stdout",
          "text": [
            "/content/lecture-ai-engineering/day1/01_streamlit_UI\n"
          ]
        }
      ],
      "source": [
        "%cd /content/lecture-ai-engineering/day1/01_streamlit_UI"
      ]
    },
    {
      "cell_type": "markdown",
      "metadata": {
        "id": "eVp-aEIkELSM"
      },
      "source": [
        "必要なライブラリをインストールします。"
      ]
    },
    {
      "cell_type": "code",
      "execution_count": null,
      "metadata": {
        "id": "nBe41LFiELSN"
      },
      "outputs": [],
      "source": [
        "%%capture\n",
        "!pip install -r requirements.txt"
      ]
    },
    {
      "cell_type": "markdown",
      "metadata": {
        "id": "Yyw6VHaTELSN"
      },
      "source": [
        "ngrokのトークンを使用して、認証を行います。"
      ]
    },
    {
      "cell_type": "code",
      "execution_count": null,
      "metadata": {
        "id": "aYw1q0iXELSN",
        "colab": {
          "base_uri": "https://localhost:8080/"
        },
        "outputId": "5cedfc7f-6b36-415e-88ca-519e46dd3c3e"
      },
      "outputs": [
        {
          "output_type": "stream",
          "name": "stdout",
          "text": [
            "Authtoken saved to configuration file: /root/.config/ngrok/ngrok.yml\n"
          ]
        }
      ],
      "source": [
        "!ngrok authtoken $$NGROK_TOKEN"
      ]
    },
    {
      "cell_type": "markdown",
      "metadata": {
        "id": "RssTcD_IELSN"
      },
      "source": [
        "アプリを起動します。"
      ]
    },
    {
      "cell_type": "code",
      "execution_count": null,
      "metadata": {
        "id": "f-E7ucR6ELSN",
        "colab": {
          "base_uri": "https://localhost:8080/"
        },
        "outputId": "f09f1be7-a15b-4809-c430-f941170c9d42"
      },
      "outputs": [
        {
          "output_type": "stream",
          "name": "stdout",
          "text": [
            "公開URL: https://054f-34-86-88-167.ngrok-free.app\n",
            "\n",
            "Collecting usage statistics. To deactivate, set browser.gatherUsageStats to false.\n",
            "\u001b[0m\n",
            "\u001b[0m\n",
            "\u001b[34m\u001b[1m  You can now view your Streamlit app in your browser.\u001b[0m\n",
            "\u001b[0m\n",
            "\u001b[34m  Local URL: \u001b[0m\u001b[1mhttp://localhost:8501\u001b[0m\n",
            "\u001b[34m  Network URL: \u001b[0m\u001b[1mhttp://172.28.0.12:8501\u001b[0m\n",
            "\u001b[34m  External URL: \u001b[0m\u001b[1mhttp://34.86.88.167:8501\u001b[0m\n",
            "\u001b[0m\n",
            "2025-04-23 04:20:13.841 Script compilation error\n",
            "Traceback (most recent call last):\n",
            "  File \"/usr/local/lib/python3.11/dist-packages/streamlit/runtime/scriptrunner/script_runner.py\", line 549, in _run_script\n",
            "    code = self._script_cache.get_bytecode(script_path)\n",
            "           ^^^^^^^^^^^^^^^^^^^^^^^^^^^^^^^^^^^^^^^^^^^^\n",
            "  File \"/usr/local/lib/python3.11/dist-packages/streamlit/runtime/scriptrunner/script_cache.py\", line 72, in get_bytecode\n",
            "    filebody = magic.add_magic(filebody, script_path)\n",
            "               ^^^^^^^^^^^^^^^^^^^^^^^^^^^^^^^^^^^^^^\n",
            "  File \"/usr/local/lib/python3.11/dist-packages/streamlit/runtime/scriptrunner/magic.py\", line 46, in add_magic\n",
            "    tree = ast.parse(code, script_path, \"exec\")\n",
            "           ^^^^^^^^^^^^^^^^^^^^^^^^^^^^^^^^^^^^\n",
            "  File \"/usr/lib/python3.11/ast.py\", line 50, in parse\n",
            "    return compile(source, filename, mode, flags,\n",
            "           ^^^^^^^^^^^^^^^^^^^^^^^^^^^^^^^^^^^^^^\n",
            "  File \"/content/lecture-ai-engineering/day1/01_streamlit_UI/app.py\", line 26\n",
            "    st.\n",
            "       ^\n",
            "SyntaxError: invalid syntax\n",
            "2025-04-23 04:20:13.847 Thread 'MainThread': missing ScriptRunContext! This warning can be ignored when running in bare mode.\n",
            "\u001b[31m──\u001b[0m\u001b[31m────────────────────────\u001b[0m\u001b[31m \u001b[0m\u001b[1;31mTraceback \u001b[0m\u001b[1;2;31m(most recent call last)\u001b[0m\u001b[31m \u001b[0m\u001b[31m─────────────────────────\u001b[0m\u001b[31m──\u001b[0m\n",
            "\u001b[31m \u001b[0m \u001b[2;33m/usr/local/lib/python3.11/dist-packages/streamlit/runtime/scriptrunner/\u001b[0m\u001b[1;33mexec_code.py\u001b[0m: \u001b[31m \u001b[0m\n",
            "\u001b[31m \u001b[0m \u001b[94m121\u001b[0m in \u001b[92mexec_func_with_error_handling\u001b[0m                                                 \u001b[31m \u001b[0m\n",
            "\u001b[31m \u001b[0m                                                                                      \u001b[31m \u001b[0m\n",
            "\u001b[31m \u001b[0m \u001b[2;33m/usr/local/lib/python3.11/dist-packages/streamlit/runtime/scriptrunner/\u001b[0m\u001b[1;33mscript_runner\u001b[0m \u001b[31m \u001b[0m\n",
            "\u001b[31m \u001b[0m \u001b[1;33m.py\u001b[0m:\u001b[94m640\u001b[0m in \u001b[92mcode_to_exec\u001b[0m                                                              \u001b[31m \u001b[0m\n",
            "\u001b[31m \u001b[0m                                                                                      \u001b[31m \u001b[0m\n",
            "\u001b[31m \u001b[0m \u001b[2;33m/content/lecture-ai-engineering/day1/01_streamlit_UI/\u001b[0m\u001b[1;33mapp.py\u001b[0m:\u001b[94m41\u001b[0m in \u001b[92m<module>\u001b[0m           \u001b[31m \u001b[0m\n",
            "\u001b[31m \u001b[0m                                                                                      \u001b[31m \u001b[0m\n",
            "\u001b[31m \u001b[0m   \u001b[2m 38 \u001b[0m\u001b[2m# ボタン\u001b[0m                                                                       \u001b[31m \u001b[0m\n",
            "\u001b[31m \u001b[0m   \u001b[2m 39 \u001b[0m\u001b[2m# st.subheader(\"ボタン\")\u001b[0m                                                       \u001b[31m \u001b[0m\n",
            "\u001b[31m \u001b[0m   \u001b[2m 40 \u001b[0m\u001b[2m# if st.button(\"クリックしてください\"):\u001b[0m                                        \u001b[31m \u001b[0m\n",
            "\u001b[31m \u001b[0m \u001b[31m❱ \u001b[0m 41 \u001b[1;2;4m#     st.\u001b[0m\u001b[2msuccess(\"ボタンがクリックされました！\")\u001b[0m                               \u001b[31m \u001b[0m\n",
            "\u001b[31m \u001b[0m   \u001b[2m 42 \u001b[0m                                                                               \u001b[31m \u001b[0m\n",
            "\u001b[31m \u001b[0m   \u001b[2m 43 \u001b[0m\u001b[2m# チェックボックス\u001b[0m                                                             \u001b[31m \u001b[0m\n",
            "\u001b[31m \u001b[0m   \u001b[2m 44 \u001b[0m\u001b[2m# st.subheader(\"チェックボックス\")\u001b[0m                                             \u001b[31m \u001b[0m\n",
            "\u001b[31m────────────────────────────────────────────────────────────────────────────────────────\u001b[0m\n",
            "\u001b[1;91mNameError: \u001b[0mname \u001b[32m'ボタン'\u001b[0m is not defined\n",
            "\u001b[31m──\u001b[0m\u001b[31m────────────────────────\u001b[0m\u001b[31m \u001b[0m\u001b[1;31mTraceback \u001b[0m\u001b[1;2;31m(most recent call last)\u001b[0m\u001b[31m \u001b[0m\u001b[31m─────────────────────────\u001b[0m\u001b[31m──\u001b[0m\n",
            "\u001b[31m \u001b[0m \u001b[2;33m/usr/local/lib/python3.11/dist-packages/streamlit/runtime/scriptrunner/\u001b[0m\u001b[1;33mexec_code.py\u001b[0m: \u001b[31m \u001b[0m\n",
            "\u001b[31m \u001b[0m \u001b[94m121\u001b[0m in \u001b[92mexec_func_with_error_handling\u001b[0m                                                 \u001b[31m \u001b[0m\n",
            "\u001b[31m \u001b[0m                                                                                      \u001b[31m \u001b[0m\n",
            "\u001b[31m \u001b[0m \u001b[2;33m/usr/local/lib/python3.11/dist-packages/streamlit/runtime/scriptrunner/\u001b[0m\u001b[1;33mscript_runner\u001b[0m \u001b[31m \u001b[0m\n",
            "\u001b[31m \u001b[0m \u001b[1;33m.py\u001b[0m:\u001b[94m640\u001b[0m in \u001b[92mcode_to_exec\u001b[0m                                                              \u001b[31m \u001b[0m\n",
            "\u001b[31m \u001b[0m                                                                                      \u001b[31m \u001b[0m\n",
            "\u001b[31m \u001b[0m \u001b[2;33m/content/lecture-ai-engineering/day1/01_streamlit_UI/\u001b[0m\u001b[1;33mapp.py\u001b[0m:\u001b[94m98\u001b[0m in \u001b[92m<module>\u001b[0m           \u001b[31m \u001b[0m\n",
            "\u001b[31m \u001b[0m                                                                                      \u001b[31m \u001b[0m\n",
            "\u001b[31m \u001b[0m   \u001b[2m 95 \u001b[0m\u001b[2m# ============================================\u001b[0m                                 \u001b[31m \u001b[0m\n",
            "\u001b[31m \u001b[0m   \u001b[2m 96 \u001b[0m\u001b[2m# st.header(\"データの表示\")\u001b[0m                                                    \u001b[31m \u001b[0m\n",
            "\u001b[31m \u001b[0m   \u001b[2m 97 \u001b[0m                                                                               \u001b[31m \u001b[0m\n",
            "\u001b[31m \u001b[0m \u001b[31m❱ \u001b[0m 98 \u001b[1;2;4m# サンプルデータフレームを作成\u001b[0m                                                 \u001b[31m \u001b[0m\n",
            "\u001b[31m \u001b[0m   \u001b[2m 99 \u001b[0m\u001b[2m# df = pd.DataFrame({\u001b[0m                                                          \u001b[31m \u001b[0m\n",
            "\u001b[31m \u001b[0m   \u001b[2m100 \u001b[0m\u001b[2m#     '名前': ['田中', '鈴木', '佐藤', '高橋', '伊藤'],\u001b[0m                        \u001b[31m \u001b[0m\n",
            "\u001b[31m \u001b[0m   \u001b[2m101 \u001b[0m\u001b[2m#     '年齢': [25, 30, 22, 28, 33],\u001b[0m                                            \u001b[31m \u001b[0m\n",
            "\u001b[31m────────────────────────────────────────────────────────────────────────────────────────\u001b[0m\n",
            "\u001b[1;91mNameError: \u001b[0mname \u001b[32m'サンプルデータフレームを作成'\u001b[0m is not defined\n",
            "\u001b[31m──\u001b[0m\u001b[31m────────────────────────\u001b[0m\u001b[31m \u001b[0m\u001b[1;31mTraceback \u001b[0m\u001b[1;2;31m(most recent call last)\u001b[0m\u001b[31m \u001b[0m\u001b[31m─────────────────────────\u001b[0m\u001b[31m──\u001b[0m\n",
            "\u001b[31m \u001b[0m \u001b[2;33m/usr/local/lib/python3.11/dist-packages/streamlit/runtime/scriptrunner/\u001b[0m\u001b[1;33mexec_code.py\u001b[0m: \u001b[31m \u001b[0m\n",
            "\u001b[31m \u001b[0m \u001b[94m121\u001b[0m in \u001b[92mexec_func_with_error_handling\u001b[0m                                                 \u001b[31m \u001b[0m\n",
            "\u001b[31m \u001b[0m                                                                                      \u001b[31m \u001b[0m\n",
            "\u001b[31m \u001b[0m \u001b[2;33m/usr/local/lib/python3.11/dist-packages/streamlit/runtime/scriptrunner/\u001b[0m\u001b[1;33mscript_runner\u001b[0m \u001b[31m \u001b[0m\n",
            "\u001b[31m \u001b[0m \u001b[1;33m.py\u001b[0m:\u001b[94m640\u001b[0m in \u001b[92mcode_to_exec\u001b[0m                                                              \u001b[31m \u001b[0m\n",
            "\u001b[31m \u001b[0m                                                                                      \u001b[31m \u001b[0m\n",
            "\u001b[31m \u001b[0m \u001b[2;33m/content/lecture-ai-engineering/day1/01_streamlit_UI/\u001b[0m\u001b[1;33mapp.py\u001b[0m:\u001b[94m127\u001b[0m in \u001b[92m<module>\u001b[0m          \u001b[31m \u001b[0m\n",
            "\u001b[31m \u001b[0m                                                                                      \u001b[31m \u001b[0m\n",
            "\u001b[31m \u001b[0m   \u001b[2m124 \u001b[0m                                                                               \u001b[31m \u001b[0m\n",
            "\u001b[31m \u001b[0m   \u001b[2m125 \u001b[0m\u001b[2m# ラインチャート\u001b[0m                                                               \u001b[31m \u001b[0m\n",
            "\u001b[31m \u001b[0m   \u001b[2m126 \u001b[0m\u001b[2m# st.subheader(\"ラインチャート\")\u001b[0m                                               \u001b[31m \u001b[0m\n",
            "\u001b[31m \u001b[0m \u001b[31m❱ \u001b[0m127 \u001b[2m# chart_data \u001b[0m\u001b[1;2;4m= pd.DataFrame(\u001b[0m                                                   \u001b[31m \u001b[0m\n",
            "\u001b[31m \u001b[0m   \u001b[2m128 \u001b[0m\u001b[1;2;4m#     np.random.randn(20, 3),\u001b[0m                                                  \u001b[31m \u001b[0m\n",
            "\u001b[31m \u001b[0m   \u001b[2m129 \u001b[0m\u001b[1;2;4m#     columns=['A', 'B', 'C'\u001b[0m\u001b[2m])\u001b[0m                                                 \u001b[31m \u001b[0m\n",
            "\u001b[31m \u001b[0m   \u001b[2m130 \u001b[0m\u001b[2m# st.line_chart(chart_data)\u001b[0m                                                    \u001b[31m \u001b[0m\n",
            "\u001b[31m \u001b[0m                                                                                      \u001b[31m \u001b[0m\n",
            "\u001b[31m \u001b[0m \u001b[2;33m/usr/local/lib/python3.11/dist-packages/pandas/core/\u001b[0m\u001b[1;33mframe.py\u001b[0m:\u001b[94m827\u001b[0m in \u001b[92m__init__\u001b[0m         \u001b[31m \u001b[0m\n",
            "\u001b[31m \u001b[0m                                                                                      \u001b[31m \u001b[0m\n",
            "\u001b[31m \u001b[0m   \u001b[2m  824 \u001b[0m\u001b[2m│   │   │   │   │   \u001b[0mcopy=_copy,                                              \u001b[31m \u001b[0m\n",
            "\u001b[31m \u001b[0m   \u001b[2m  825 \u001b[0m\u001b[2m│   │   │   │   \u001b[0m)                                                            \u001b[31m \u001b[0m\n",
            "\u001b[31m \u001b[0m   \u001b[2m  826 \u001b[0m\u001b[2m│   │   │   \u001b[0m\u001b[94melse\u001b[0m:                                                            \u001b[31m \u001b[0m\n",
            "\u001b[31m \u001b[0m \u001b[31m❱ \u001b[0m  827 \u001b[2m│   │   │   │   \u001b[0mmgr = ndarray_to_mgr(                                        \u001b[31m \u001b[0m\n",
            "\u001b[31m \u001b[0m   \u001b[2m  828 \u001b[0m\u001b[2m│   │   │   │   │   \u001b[0mdata,                                                    \u001b[31m \u001b[0m\n",
            "\u001b[31m \u001b[0m   \u001b[2m  829 \u001b[0m\u001b[2m│   │   │   │   │   \u001b[0mindex,                                                   \u001b[31m \u001b[0m\n",
            "\u001b[31m \u001b[0m   \u001b[2m  830 \u001b[0m\u001b[2m│   │   │   │   │   \u001b[0mcolumns,                                                 \u001b[31m \u001b[0m\n",
            "\u001b[31m \u001b[0m                                                                                      \u001b[31m \u001b[0m\n",
            "\u001b[31m \u001b[0m \u001b[2;33m/usr/local/lib/python3.11/dist-packages/pandas/core/internals/\u001b[0m\u001b[1;33mconstruction.py\u001b[0m:\u001b[94m336\u001b[0m in \u001b[31m \u001b[0m\n",
            "\u001b[31m \u001b[0m \u001b[92mndarray_to_mgr\u001b[0m                                                                       \u001b[31m \u001b[0m\n",
            "\u001b[31m \u001b[0m                                                                                      \u001b[31m \u001b[0m\n",
            "\u001b[31m \u001b[0m   \u001b[2m 333 \u001b[0m\u001b[2m│   │   \u001b[0mvalues.shape[\u001b[94m0\u001b[0m], values.shape[\u001b[94m1\u001b[0m], index=index, columns=columns        \u001b[31m \u001b[0m\n",
            "\u001b[31m \u001b[0m   \u001b[2m 334 \u001b[0m\u001b[2m│   \u001b[0m)                                                                         \u001b[31m \u001b[0m\n",
            "\u001b[31m \u001b[0m   \u001b[2m 335 \u001b[0m\u001b[2m│   \u001b[0m                                                                          \u001b[31m \u001b[0m\n",
            "\u001b[31m \u001b[0m \u001b[31m❱ \u001b[0m 336 \u001b[2m│   \u001b[0m\u001b[1;4m_check_values_indices_shape_match(values, index, columns)\u001b[0m                 \u001b[31m \u001b[0m\n",
            "\u001b[31m \u001b[0m   \u001b[2m 337 \u001b[0m\u001b[2m│   \u001b[0m                                                                          \u001b[31m \u001b[0m\n",
            "\u001b[31m \u001b[0m   \u001b[2m 338 \u001b[0m\u001b[2m│   \u001b[0m\u001b[94mif\u001b[0m typ == \u001b[33m\"\u001b[0m\u001b[33marray\u001b[0m\u001b[33m\"\u001b[0m:                                                        \u001b[31m \u001b[0m\n",
            "\u001b[31m \u001b[0m   \u001b[2m 339 \u001b[0m\u001b[2m│   │   \u001b[0m\u001b[94mif\u001b[0m \u001b[96missubclass\u001b[0m(values.dtype.type, \u001b[96mstr\u001b[0m):                                \u001b[31m \u001b[0m\n",
            "\u001b[31m \u001b[0m                                                                                      \u001b[31m \u001b[0m\n",
            "\u001b[31m \u001b[0m \u001b[2;33m/usr/local/lib/python3.11/dist-packages/pandas/core/internals/\u001b[0m\u001b[1;33mconstruction.py\u001b[0m:\u001b[94m420\u001b[0m in \u001b[31m \u001b[0m\n",
            "\u001b[31m \u001b[0m \u001b[92m_check_values_indices_shape_match\u001b[0m                                                    \u001b[31m \u001b[0m\n",
            "\u001b[31m \u001b[0m                                                                                      \u001b[31m \u001b[0m\n",
            "\u001b[31m \u001b[0m   \u001b[2m 417 \u001b[0m\u001b[2m│   │   \u001b[0m                                                                      \u001b[31m \u001b[0m\n",
            "\u001b[31m \u001b[0m   \u001b[2m 418 \u001b[0m\u001b[2m│   │   \u001b[0mpassed = values.shape                                                 \u001b[31m \u001b[0m\n",
            "\u001b[31m \u001b[0m   \u001b[2m 419 \u001b[0m\u001b[2m│   │   \u001b[0mimplied = (\u001b[96mlen\u001b[0m(index), \u001b[96mlen\u001b[0m(columns))                                  \u001b[31m \u001b[0m\n",
            "\u001b[31m \u001b[0m \u001b[31m❱ \u001b[0m 420 \u001b[2m│   │   \u001b[0m\u001b[1;4;94mraise\u001b[0m\u001b[1;4m \u001b[0m\u001b[1;4;96mValueError\u001b[0m\u001b[1;4m(\u001b[0m\u001b[1;4;33mf\u001b[0m\u001b[1;4;33m\"\u001b[0m\u001b[1;4;33mShape of passed values is \u001b[0m\u001b[1;4;33m{\u001b[0m\u001b[1;4mpassed\u001b[0m\u001b[1;4;33m}\u001b[0m\u001b[1;4;33m, indices imply \u001b[0m \u001b[31m \u001b[0m\n",
            "\u001b[31m \u001b[0m   \u001b[2m 421 \u001b[0m                                                                              \u001b[31m \u001b[0m\n",
            "\u001b[31m \u001b[0m   \u001b[2m 422 \u001b[0m                                                                              \u001b[31m \u001b[0m\n",
            "\u001b[31m \u001b[0m   \u001b[2m 423 \u001b[0m\u001b[94mdef\u001b[0m \u001b[92mdict_to_mgr\u001b[0m(                                                              \u001b[31m \u001b[0m\n",
            "\u001b[31m────────────────────────────────────────────────────────────────────────────────────────\u001b[0m\n",
            "\u001b[1;91mValueError: \u001b[0mShape of passed values is \u001b[1m(\u001b[0m\u001b[1;36m20\u001b[0m, \u001b[1;36m2\u001b[0m\u001b[1m)\u001b[0m, indices imply \u001b[1m(\u001b[0m\u001b[1;36m20\u001b[0m, \u001b[1;36m3\u001b[0m\u001b[1m)\u001b[0m\n",
            "\u001b[34m  Stopping...\u001b[0m\n",
            "\u001b[34m  Stopping...\u001b[0m\n"
          ]
        }
      ],
      "source": [
        "from pyngrok import ngrok\n",
        "\n",
        "public_url = ngrok.connect(8501).public_url\n",
        "print(f\"公開URL: {public_url}\")\n",
        "!streamlit run app.py"
      ]
    },
    {
      "cell_type": "markdown",
      "metadata": {
        "id": "kbYyXVFjELSN"
      },
      "source": [
        "公開URLの後に記載されているURLにブラウザでアクセスすると、streamlitのUIが表示されます。\n",
        "\n",
        "app.pyのコメントアウトされている箇所を編集することで、UIがどの様に変化するか確認してみましょう。\n",
        "\n",
        "streamlitの公式ページには、ギャラリーページがあります。\n",
        "\n",
        "streamlitを使うとpythonという一つの言語であっても、様々なUIを実現できることがわかると思います。\n",
        "\n",
        "https://streamlit.io/gallery"
      ]
    },
    {
      "cell_type": "markdown",
      "metadata": {
        "id": "MmtP5GLOELSN"
      },
      "source": [
        "後片付けとして、使う必要のないngrokのトンネルを削除します。"
      ]
    },
    {
      "cell_type": "code",
      "execution_count": null,
      "metadata": {
        "id": "8Ek9QgahELSO"
      },
      "outputs": [],
      "source": [
        "from pyngrok import ngrok\n",
        "ngrok.kill()"
      ]
    },
    {
      "cell_type": "markdown",
      "metadata": {
        "id": "o-T8tFpyELSO"
      },
      "source": [
        "# 02_streamlit_app"
      ]
    },
    {
      "cell_type": "markdown",
      "metadata": {
        "id": "QqogFQKnELSO"
      },
      "source": [
        "\n",
        "ディレクトリ「02_streamlit_app」に移動します。"
      ]
    },
    {
      "cell_type": "code",
      "execution_count": 13,
      "metadata": {
        "id": "UeEjlJ7uELSO",
        "colab": {
          "base_uri": "https://localhost:8080/"
        },
        "outputId": "c147c5fc-5d52-4fbf-975e-3a0d1e92dc92"
      },
      "outputs": [
        {
          "output_type": "stream",
          "name": "stdout",
          "text": [
            "/content/lecture-ai-engineering/day1/02_streamlit_app\n"
          ]
        }
      ],
      "source": [
        "%cd /content/lecture-ai-engineering/day1/02_streamlit_app"
      ]
    },
    {
      "cell_type": "markdown",
      "metadata": {
        "id": "-XUH2AstELSO"
      },
      "source": [
        "必要なライブラリをインストールします。"
      ]
    },
    {
      "cell_type": "code",
      "execution_count": 4,
      "metadata": {
        "id": "mDqvI4V3ELSO"
      },
      "outputs": [],
      "source": [
        "%%capture\n",
        "!pip install -r requirements.txt"
      ]
    },
    {
      "cell_type": "markdown",
      "metadata": {
        "id": "ZO31umGZELSO"
      },
      "source": [
        "ngrokとhuggigfaceのトークンを使用して、認証を行います。"
      ]
    },
    {
      "cell_type": "code",
      "execution_count": 9,
      "metadata": {
        "id": "jPxTiEWQELSO",
        "colab": {
          "base_uri": "https://localhost:8080/"
        },
        "outputId": "18866cef-f3e0-43ae-ea8c-6c5900d4806e"
      },
      "outputs": [
        {
          "output_type": "stream",
          "name": "stdout",
          "text": [
            "Authtoken saved to configuration file: /root/.config/ngrok/ngrok.yml\n",
            "The token has not been saved to the git credentials helper. Pass `add_to_git_credential=True` in this function directly or `--add-to-git-credential` if using via `huggingface-cli` if you want to set the git credential as well.\n",
            "Token is valid (permission: read).\n",
            "The token `ai_development` has been saved to /root/.cache/huggingface/stored_tokens\n",
            "Your token has been saved to /root/.cache/huggingface/token\n",
            "Login successful.\n",
            "The current active token is: `ai_development`\n"
          ]
        }
      ],
      "source": [
        "!ngrok authtoken $$NGROK_TOKEN\n",
        "!huggingface-cli login --token $$HUGGINGFACE_TOKEN"
      ]
    },
    {
      "cell_type": "markdown",
      "metadata": {
        "id": "dz4WrELLELSP"
      },
      "source": [
        "stramlitでHuggingfaceのトークン情報を扱うために、streamlit用の設定ファイル（.streamlit）を作成し、トークンの情報を格納します。"
      ]
    },
    {
      "cell_type": "code",
      "execution_count": 17,
      "metadata": {
        "id": "W184-a7qFP0W"
      },
      "outputs": [],
      "source": [
        "# .streamlit/secrets.toml ファイルを作成\n",
        "import os\n",
        "import toml\n",
        "\n",
        "# 設定ファイルのディレクトリ確保\n",
        "os.makedirs('.streamlit', exist_ok=True)\n",
        "\n",
        "# 環境変数から取得したトークンを設定ファイルに書き込む\n",
        "secrets = {\n",
        "    \"huggingface\": {\n",
        "        \"token\": os.environ.get(\"HUGGINGFACE_TOKEN\", \"\")\n",
        "    }\n",
        "}\n",
        "\n",
        "# 設定ファイルを書き込む\n",
        "with open('.streamlit/secrets.toml', 'w') as f:\n",
        "    toml.dump(secrets, f)"
      ]
    },
    {
      "cell_type": "markdown",
      "metadata": {
        "id": "fK0vI_xKELSP"
      },
      "source": [
        "アプリを起動します。\n",
        "\n",
        "02_streamlit_appでは、Huggingfaceからモデルをダウンロードするため、初回起動には2分程度時間がかかります。\n",
        "\n",
        "この待ち時間を利用して、app.pyのコードを確認してみましょう。"
      ]
    },
    {
      "cell_type": "code",
      "execution_count": 18,
      "metadata": {
        "id": "TBQyTTWTELSP",
        "colab": {
          "base_uri": "https://localhost:8080/"
        },
        "outputId": "5a1c2a42-3fb0-4ce8-9b31-692a3ee59624"
      },
      "outputs": [
        {
          "output_type": "stream",
          "name": "stdout",
          "text": [
            "公開URL: https://79d2-34-125-163-217.ngrok-free.app\n",
            "\n",
            "Collecting usage statistics. To deactivate, set browser.gatherUsageStats to false.\n",
            "\u001b[0m\n",
            "\u001b[0m\n",
            "\u001b[34m\u001b[1m  You can now view your Streamlit app in your browser.\u001b[0m\n",
            "\u001b[0m\n",
            "\u001b[34m  Local URL: \u001b[0m\u001b[1mhttp://localhost:8501\u001b[0m\n",
            "\u001b[34m  Network URL: \u001b[0m\u001b[1mhttp://172.28.0.12:8501\u001b[0m\n",
            "\u001b[34m  External URL: \u001b[0m\u001b[1mhttp://34.125.163.217:8501\u001b[0m\n",
            "\u001b[0m\n",
            "NLTK loaded successfully.\n",
            "2025-04-23 06:37:19.532011: E external/local_xla/xla/stream_executor/cuda/cuda_fft.cc:477] Unable to register cuFFT factory: Attempting to register factory for plugin cuFFT when one has already been registered\n",
            "WARNING: All log messages before absl::InitializeLog() is called are written to STDERR\n",
            "E0000 00:00:1745390239.758652    1671 cuda_dnn.cc:8310] Unable to register cuDNN factory: Attempting to register factory for plugin cuDNN when one has already been registered\n",
            "E0000 00:00:1745390239.824113    1671 cuda_blas.cc:1418] Unable to register cuBLAS factory: Attempting to register factory for plugin cuBLAS when one has already been registered\n",
            "2025-04-23 06:37:20.276287: I tensorflow/core/platform/cpu_feature_guard.cc:210] This TensorFlow binary is optimized to use available CPU instructions in performance-critical operations.\n",
            "To enable the following instructions: AVX2 AVX512F FMA, in other operations, rebuild TensorFlow with the appropriate compiler flags.\n",
            "NLTK Punkt data checked/downloaded.\n",
            "Database 'chat_feedback.db' initialized successfully.\n",
            "Data saved to DB successfully.\n",
            "Data saved to DB successfully.\n",
            "Data saved to DB successfully.\n",
            "Data saved to DB successfully.\n",
            "Data saved to DB successfully.\n",
            "Data saved to DB successfully.\n",
            "Data saved to DB successfully.\n",
            "Data saved to DB successfully.\n",
            "Data saved to DB successfully.\n",
            "Data saved to DB successfully.\n",
            "config.json: 100% 855/855 [00:00<00:00, 5.53MB/s]\n",
            "model.safetensors.index.json: 100% 90.6k/90.6k [00:00<00:00, 1.32MB/s]\n",
            "Fetching 2 files:   0% 0/2 [00:00<?, ?it/s]\n",
            "model-00002-of-00002.safetensors:   0% 0.00/3.64G [00:00<?, ?B/s]\u001b[A\n",
            "model-00002-of-00002.safetensors:   0% 10.5M/3.64G [00:00<00:54, 66.3MB/s]\u001b[A\n",
            "model-00002-of-00002.safetensors:   1% 21.0M/3.64G [00:00<00:51, 70.4MB/s]\u001b[A\n",
            "\n",
            "model-00001-of-00002.safetensors:   0% 0.00/4.96G [00:00<?, ?B/s]\u001b[A\u001b[A\n",
            "\n",
            "model-00001-of-00002.safetensors:   0% 21.0M/4.96G [00:00<00:29, 168MB/s]\u001b[A\u001b[A\n",
            "model-00002-of-00002.safetensors:   1% 31.5M/3.64G [00:00<00:52, 68.4MB/s]\u001b[A\n",
            "\n",
            "model-00001-of-00002.safetensors:   1% 52.4M/4.96G [00:00<00:20, 240MB/s]\u001b[A\u001b[A\n",
            "model-00002-of-00002.safetensors:   1% 41.9M/3.64G [00:00<00:49, 73.0MB/s]\u001b[A\n",
            "\n",
            "model-00001-of-00002.safetensors:   2% 83.9M/4.96G [00:00<00:18, 266MB/s]\u001b[A\u001b[A\n",
            "model-00002-of-00002.safetensors:   1% 52.4M/3.64G [00:00<00:48, 73.7MB/s]\u001b[A\n",
            "\n",
            "model-00001-of-00002.safetensors:   2% 115M/4.96G [00:00<00:20, 235MB/s] \u001b[A\u001b[A\n",
            "model-00002-of-00002.safetensors:   2% 62.9M/3.64G [00:00<00:55, 65.0MB/s]\u001b[A\n",
            "\n",
            "model-00001-of-00002.safetensors:   3% 147M/4.96G [00:00<00:19, 252MB/s]\u001b[A\u001b[A\n",
            "\n",
            "model-00001-of-00002.safetensors:   4% 178M/4.96G [00:00<00:18, 261MB/s]\u001b[A\u001b[A\n",
            "model-00002-of-00002.safetensors:   2% 73.4M/3.64G [00:01<00:53, 67.1MB/s]\u001b[A\n",
            "\n",
            "model-00001-of-00002.safetensors:   4% 210M/4.96G [00:00<00:18, 263MB/s]\u001b[A\u001b[A\n",
            "model-00002-of-00002.safetensors:   2% 83.9M/3.64G [00:01<00:51, 69.1MB/s]\u001b[A\n",
            "\n",
            "model-00001-of-00002.safetensors:   5% 241M/4.96G [00:00<00:17, 267MB/s]\u001b[A\u001b[A\n",
            "model-00002-of-00002.safetensors:   3% 94.4M/3.64G [00:01<00:51, 69.1MB/s]\u001b[A\n",
            "\n",
            "model-00001-of-00002.safetensors:   5% 273M/4.96G [00:01<00:20, 231MB/s]\u001b[A\u001b[A\n",
            "model-00002-of-00002.safetensors:   3% 105M/3.64G [00:01<00:52, 67.7MB/s] \u001b[A\n",
            "\n",
            "model-00001-of-00002.safetensors:   6% 304M/4.96G [00:01<00:20, 223MB/s]\u001b[A\u001b[A\n",
            "model-00002-of-00002.safetensors:   3% 115M/3.64G [00:01<00:54, 65.1MB/s]\u001b[A\n",
            "\n",
            "model-00001-of-00002.safetensors:   7% 336M/4.96G [00:01<00:21, 211MB/s]\u001b[A\u001b[A\n",
            "model-00002-of-00002.safetensors:   3% 126M/3.64G [00:01<00:51, 68.4MB/s]\u001b[A\n",
            "\n",
            "model-00001-of-00002.safetensors:   7% 367M/4.96G [00:01<00:22, 208MB/s]\u001b[A\u001b[A\n",
            "\n",
            "model-00001-of-00002.safetensors:   8% 398M/4.96G [00:01<00:22, 205MB/s]\u001b[A\u001b[A\n",
            "model-00002-of-00002.safetensors:   4% 136M/3.64G [00:02<01:13, 47.9MB/s]\u001b[A\n",
            "\n",
            "model-00001-of-00002.safetensors:   9% 430M/4.96G [00:01<00:22, 202MB/s]\u001b[A\u001b[A\n",
            "\n",
            "model-00001-of-00002.safetensors:   9% 461M/4.96G [00:02<00:21, 213MB/s]\u001b[A\u001b[A\n",
            "\n",
            "model-00001-of-00002.safetensors:  10% 493M/4.96G [00:02<00:21, 211MB/s]\u001b[A\u001b[A\n",
            "model-00002-of-00002.safetensors:   4% 147M/3.64G [00:02<01:27, 39.8MB/s]\u001b[A\n",
            "\n",
            "model-00001-of-00002.safetensors:  11% 524M/4.96G [00:02<00:20, 213MB/s]\u001b[A\u001b[A\n",
            "model-00002-of-00002.safetensors:   4% 157M/3.64G [00:02<01:18, 44.2MB/s]\u001b[A\n",
            "\n",
            "model-00001-of-00002.safetensors:  11% 556M/4.96G [00:02<00:21, 204MB/s]\u001b[A\u001b[A\n",
            "\n",
            "model-00001-of-00002.safetensors:  12% 587M/4.96G [00:02<00:19, 220MB/s]\u001b[A\u001b[A\n",
            "model-00002-of-00002.safetensors:   5% 168M/3.64G [00:03<01:26, 40.0MB/s]\u001b[A\n",
            "\n",
            "model-00001-of-00002.safetensors:  12% 619M/4.96G [00:02<00:20, 215MB/s]\u001b[A\u001b[A\n",
            "model-00002-of-00002.safetensors:   5% 178M/3.64G [00:03<01:14, 46.4MB/s]\u001b[A\n",
            "\n",
            "model-00001-of-00002.safetensors:  13% 650M/4.96G [00:02<00:21, 204MB/s]\u001b[A\u001b[A\n",
            "model-00002-of-00002.safetensors:   5% 189M/3.64G [00:03<01:05, 52.6MB/s]\u001b[A\n",
            "\n",
            "model-00001-of-00002.safetensors:  14% 671M/4.96G [00:03<00:22, 193MB/s]\u001b[A\u001b[A\n",
            "model-00002-of-00002.safetensors:   5% 199M/3.64G [00:03<00:58, 58.5MB/s]\u001b[A\n",
            "\n",
            "model-00001-of-00002.safetensors:  14% 692M/4.96G [00:03<00:23, 180MB/s]\u001b[A\u001b[A\n",
            "model-00002-of-00002.safetensors:   6% 210M/3.64G [00:03<00:54, 62.4MB/s]\u001b[A\n",
            "\n",
            "model-00001-of-00002.safetensors:  15% 724M/4.96G [00:03<00:22, 187MB/s]\u001b[A\u001b[A\n",
            "model-00002-of-00002.safetensors:   6% 220M/3.64G [00:03<00:51, 66.1MB/s]\u001b[A\n",
            "\n",
            "model-00001-of-00002.safetensors:  15% 755M/4.96G [00:03<00:21, 199MB/s]\u001b[A\u001b[A\n",
            "model-00002-of-00002.safetensors:   6% 231M/3.64G [00:03<00:49, 68.8MB/s]\u001b[A\n",
            "\n",
            "model-00001-of-00002.safetensors:  16% 776M/4.96G [00:03<00:21, 191MB/s]\u001b[A\u001b[A\n",
            "model-00002-of-00002.safetensors:   7% 241M/3.64G [00:04<00:54, 62.5MB/s]\u001b[A\n",
            "\n",
            "model-00001-of-00002.safetensors:  16% 807M/4.96G [00:03<00:21, 192MB/s]\u001b[A\u001b[A\n",
            "model-00002-of-00002.safetensors:   7% 252M/3.64G [00:04<00:51, 65.9MB/s]\u001b[A\n",
            "\n",
            "model-00001-of-00002.safetensors:  17% 839M/4.96G [00:03<00:21, 193MB/s]\u001b[A\u001b[A\n",
            "model-00002-of-00002.safetensors:   7% 262M/3.64G [00:04<00:49, 68.9MB/s]\u001b[A\n",
            "\n",
            "model-00001-of-00002.safetensors:  17% 860M/4.96G [00:04<00:21, 193MB/s]\u001b[A\u001b[A\n",
            "\n",
            "model-00001-of-00002.safetensors:  18% 881M/4.96G [00:04<00:20, 197MB/s]\u001b[A\u001b[A\n",
            "model-00002-of-00002.safetensors:   7% 273M/3.64G [00:04<00:48, 69.9MB/s]\u001b[A\n",
            "\n",
            "model-00001-of-00002.safetensors:  18% 902M/4.96G [00:04<00:21, 191MB/s]\u001b[A\u001b[A\n",
            "model-00002-of-00002.safetensors:   8% 283M/3.64G [00:04<00:46, 72.1MB/s]\u001b[A\n",
            "\n",
            "model-00001-of-00002.safetensors:  19% 923M/4.96G [00:04<00:20, 195MB/s]\u001b[A\u001b[A\n",
            "model-00002-of-00002.safetensors:   8% 294M/3.64G [00:04<00:47, 71.0MB/s]\u001b[A\n",
            "\n",
            "model-00001-of-00002.safetensors:  19% 944M/4.96G [00:04<00:20, 197MB/s]\u001b[A\u001b[A\n",
            "\n",
            "model-00001-of-00002.safetensors:  19% 965M/4.96G [00:04<00:20, 192MB/s]\u001b[A\u001b[A\n",
            "model-00002-of-00002.safetensors:   8% 304M/3.64G [00:04<00:50, 66.3MB/s]\u001b[A\n",
            "\n",
            "model-00001-of-00002.safetensors:  20% 986M/4.96G [00:04<00:20, 190MB/s]\u001b[A\u001b[A\n",
            "model-00002-of-00002.safetensors:   9% 315M/3.64G [00:05<00:51, 64.3MB/s]\u001b[A\n",
            "\n",
            "model-00001-of-00002.safetensors:  21% 1.02G/4.96G [00:04<00:18, 216MB/s]\u001b[A\u001b[A\n",
            "\n",
            "model-00001-of-00002.safetensors:  21% 1.05G/4.96G [00:04<00:17, 228MB/s]\u001b[A\u001b[A\n",
            "\n",
            "model-00001-of-00002.safetensors:  22% 1.08G/4.96G [00:05<00:15, 246MB/s]\u001b[A\u001b[A\n",
            "model-00002-of-00002.safetensors:   9% 325M/3.64G [00:05<00:59, 55.5MB/s]\u001b[A\n",
            "model-00002-of-00002.safetensors:   9% 336M/3.64G [00:05<00:54, 60.7MB/s]\u001b[A\n",
            "\n",
            "model-00001-of-00002.safetensors:  22% 1.11G/4.96G [00:05<00:17, 225MB/s]\u001b[A\u001b[A\n",
            "model-00002-of-00002.safetensors:  10% 346M/3.64G [00:05<00:51, 63.5MB/s]\u001b[A\n",
            "\n",
            "model-00001-of-00002.safetensors:  23% 1.14G/4.96G [00:05<00:18, 210MB/s]\u001b[A\u001b[A\n",
            "model-00002-of-00002.safetensors:  10% 357M/3.64G [00:05<00:52, 62.6MB/s]\u001b[A\n",
            "\n",
            "model-00001-of-00002.safetensors:  24% 1.17G/4.96G [00:05<00:19, 193MB/s]\u001b[A\u001b[A\n",
            "model-00002-of-00002.safetensors:  10% 367M/3.64G [00:06<00:49, 66.2MB/s]\u001b[A\n",
            "\n",
            "model-00001-of-00002.safetensors:  24% 1.21G/4.96G [00:05<00:19, 189MB/s]\u001b[A\u001b[A\n",
            "model-00002-of-00002.safetensors:  10% 377M/3.64G [00:06<00:47, 68.3MB/s]\u001b[A\n",
            "\n",
            "model-00001-of-00002.safetensors:  25% 1.23G/4.96G [00:05<00:20, 184MB/s]\u001b[A\u001b[A\n",
            "model-00002-of-00002.safetensors:  11% 388M/3.64G [00:06<00:48, 66.6MB/s]\u001b[A\n",
            "\n",
            "model-00001-of-00002.safetensors:  25% 1.25G/4.96G [00:07<01:46, 35.0MB/s]\u001b[A\u001b[A\n",
            "model-00002-of-00002.safetensors:  11% 398M/3.64G [00:08<03:44, 14.4MB/s]\u001b[A\n",
            "\n",
            "model-00001-of-00002.safetensors:  26% 1.29G/4.96G [00:08<01:06, 55.1MB/s]\u001b[A\u001b[A\n",
            "model-00002-of-00002.safetensors:  12% 419M/3.64G [00:08<02:09, 24.8MB/s]\u001b[A\n",
            "\n",
            "model-00001-of-00002.safetensors:  27% 1.32G/4.96G [00:08<00:50, 72.4MB/s]\u001b[A\u001b[A\n",
            "model-00002-of-00002.safetensors:  12% 430M/3.64G [00:08<01:50, 29.1MB/s]\u001b[A\n",
            "\n",
            "model-00001-of-00002.safetensors:  27% 1.35G/4.96G [00:08<00:39, 91.1MB/s]\u001b[A\u001b[A\n",
            "model-00002-of-00002.safetensors:  12% 440M/3.64G [00:08<01:34, 33.9MB/s]\u001b[A\n",
            "\n",
            "model-00001-of-00002.safetensors:  28% 1.38G/4.96G [00:08<00:31, 113MB/s] \u001b[A\u001b[A\n",
            "\n",
            "model-00001-of-00002.safetensors:  29% 1.42G/4.96G [00:08<00:25, 138MB/s]\u001b[A\u001b[A\n",
            "model-00002-of-00002.safetensors:  12% 451M/3.64G [00:08<01:20, 39.5MB/s]\u001b[A\n",
            "\n",
            "model-00001-of-00002.safetensors:  29% 1.45G/4.96G [00:08<00:22, 159MB/s]\u001b[A\u001b[A\n",
            "model-00002-of-00002.safetensors:  13% 461M/3.64G [00:09<01:10, 45.0MB/s]\u001b[A\n",
            "\n",
            "model-00001-of-00002.safetensors:  30% 1.48G/4.96G [00:08<00:19, 180MB/s]\u001b[A\u001b[A\n",
            "model-00002-of-00002.safetensors:  13% 472M/3.64G [00:09<01:02, 51.0MB/s]\u001b[A\n",
            "\n",
            "model-00001-of-00002.safetensors:  30% 1.51G/4.96G [00:09<00:17, 198MB/s]\u001b[A\u001b[A\n",
            "model-00002-of-00002.safetensors:  13% 482M/3.64G [00:09<00:55, 56.5MB/s]\u001b[A\n",
            "\n",
            "model-00001-of-00002.safetensors:  31% 1.54G/4.96G [00:09<00:16, 211MB/s]\u001b[A\u001b[A\n",
            "\n",
            "model-00001-of-00002.safetensors:  32% 1.57G/4.96G [00:09<00:14, 233MB/s]\u001b[A\u001b[A\n",
            "model-00002-of-00002.safetensors:  14% 493M/3.64G [00:09<00:52, 59.7MB/s]\u001b[A\n",
            "\n",
            "model-00001-of-00002.safetensors:  32% 1.60G/4.96G [00:09<00:14, 224MB/s]\u001b[A\u001b[A\n",
            "model-00002-of-00002.safetensors:  14% 503M/3.64G [00:09<00:53, 59.0MB/s]\u001b[A\n",
            "\n",
            "model-00001-of-00002.safetensors:  33% 1.64G/4.96G [00:09<00:15, 215MB/s]\u001b[A\u001b[A\n",
            "model-00002-of-00002.safetensors:  14% 514M/3.64G [00:09<00:50, 61.8MB/s]\u001b[A\n",
            "\n",
            "model-00001-of-00002.safetensors:  34% 1.67G/4.96G [00:09<00:15, 219MB/s]\u001b[A\u001b[A\n",
            "model-00002-of-00002.safetensors:  14% 524M/3.64G [00:10<00:51, 60.0MB/s]\u001b[A\n",
            "\n",
            "model-00001-of-00002.safetensors:  34% 1.70G/4.96G [00:09<00:15, 212MB/s]\u001b[A\u001b[A\n",
            "model-00002-of-00002.safetensors:  15% 535M/3.64G [00:10<00:51, 60.6MB/s]\u001b[A\n",
            "\n",
            "model-00001-of-00002.safetensors:  35% 1.73G/4.96G [00:10<00:15, 208MB/s]\u001b[A\u001b[A\n",
            "model-00002-of-00002.safetensors:  15% 545M/3.64G [00:10<00:49, 62.8MB/s]\u001b[A\n",
            "\n",
            "model-00001-of-00002.safetensors:  36% 1.76G/4.96G [00:12<01:15, 42.4MB/s]\u001b[A\u001b[A\n",
            "\n",
            "model-00001-of-00002.safetensors:  36% 1.80G/4.96G [00:12<00:50, 62.0MB/s]\u001b[A\u001b[A\n",
            "\n",
            "model-00001-of-00002.safetensors:  37% 1.85G/4.96G [00:12<00:36, 84.5MB/s]\u001b[A\u001b[A\n",
            "model-00002-of-00002.safetensors:  15% 556M/3.64G [00:12<04:07, 12.5MB/s]\u001b[A\n",
            "\n",
            "model-00001-of-00002.safetensors:  38% 1.88G/4.96G [00:12<00:30, 102MB/s] \u001b[A\u001b[A\n",
            "\n",
            "model-00001-of-00002.safetensors:  38% 1.91G/4.96G [00:12<00:24, 126MB/s]\u001b[A\u001b[A\n",
            "model-00002-of-00002.safetensors:  16% 566M/3.64G [00:12<03:04, 16.6MB/s]\u001b[A\n",
            "\n",
            "model-00001-of-00002.safetensors:  39% 1.94G/4.96G [00:12<00:21, 142MB/s]\u001b[A\u001b[A\n",
            "model-00002-of-00002.safetensors:  16% 587M/3.64G [00:13<01:50, 27.6MB/s]\u001b[A\n",
            "\n",
            "model-00001-of-00002.safetensors:  40% 1.97G/4.96G [00:12<00:18, 164MB/s]\u001b[A\u001b[A\n",
            "model-00002-of-00002.safetensors:  16% 598M/3.64G [00:13<01:33, 32.6MB/s]\u001b[A\n",
            "\n",
            "model-00001-of-00002.safetensors:  40% 2.00G/4.96G [00:13<00:16, 177MB/s]\u001b[A\u001b[A\n",
            "model-00002-of-00002.safetensors:  17% 608M/3.64G [00:13<01:18, 38.4MB/s]\u001b[A\n",
            "\n",
            "model-00001-of-00002.safetensors:  41% 2.03G/4.96G [00:13<00:15, 193MB/s]\u001b[A\u001b[A\n",
            "model-00002-of-00002.safetensors:  17% 619M/3.64G [00:13<01:08, 44.4MB/s]\u001b[A\n",
            "\n",
            "model-00001-of-00002.safetensors:  42% 2.07G/4.96G [00:13<00:13, 212MB/s]\u001b[A\u001b[A\n",
            "model-00002-of-00002.safetensors:  17% 629M/3.64G [00:13<01:00, 49.9MB/s]\u001b[A\n",
            "\n",
            "model-00001-of-00002.safetensors:  42% 2.10G/4.96G [00:13<00:12, 222MB/s]\u001b[A\u001b[A\n",
            "model-00002-of-00002.safetensors:  18% 640M/3.64G [00:13<00:54, 54.6MB/s]\u001b[A\n",
            "\n",
            "model-00001-of-00002.safetensors:  43% 2.14G/4.96G [00:13<00:11, 237MB/s]\u001b[A\u001b[A\n",
            "\n",
            "model-00001-of-00002.safetensors:  44% 2.17G/4.96G [00:13<00:11, 240MB/s]\u001b[A\u001b[A\n",
            "model-00002-of-00002.safetensors:  18% 650M/3.64G [00:14<00:57, 51.6MB/s]\u001b[A\n",
            "\n",
            "model-00001-of-00002.safetensors:  44% 2.20G/4.96G [00:13<00:11, 245MB/s]\u001b[A\u001b[A\n",
            "model-00002-of-00002.safetensors:  18% 661M/3.64G [00:14<00:52, 57.0MB/s]\u001b[A\n",
            "\n",
            "model-00001-of-00002.safetensors:  45% 2.23G/4.96G [00:13<00:10, 258MB/s]\u001b[A\u001b[A\n",
            "\n",
            "model-00001-of-00002.safetensors:  46% 2.26G/4.96G [00:14<00:11, 245MB/s]\u001b[A\u001b[A\n",
            "\n",
            "model-00001-of-00002.safetensors:  46% 2.30G/4.96G [00:14<00:10, 257MB/s]\u001b[A\u001b[A\n",
            "model-00002-of-00002.safetensors:  18% 671M/3.64G [00:14<01:01, 48.5MB/s]\u001b[A\n",
            "model-00002-of-00002.safetensors:  19% 682M/3.64G [00:14<00:59, 49.4MB/s]\u001b[A\n",
            "\n",
            "model-00001-of-00002.safetensors:  47% 2.33G/4.96G [00:14<00:13, 193MB/s]\u001b[A\u001b[A\n",
            "model-00002-of-00002.safetensors:  19% 692M/3.64G [00:14<00:53, 54.8MB/s]\u001b[A\n",
            "\n",
            "model-00001-of-00002.safetensors:  48% 2.36G/4.96G [00:14<00:12, 208MB/s]\u001b[A\u001b[A\n",
            "\n",
            "model-00001-of-00002.safetensors:  48% 2.39G/4.96G [00:14<00:11, 223MB/s]\u001b[A\u001b[A\n",
            "model-00002-of-00002.safetensors:  19% 703M/3.64G [00:15<00:55, 52.8MB/s]\u001b[A\n",
            "\n",
            "model-00001-of-00002.safetensors:  49% 2.42G/4.96G [00:14<00:12, 198MB/s]\u001b[A\u001b[A\n",
            "model-00002-of-00002.safetensors:  20% 713M/3.64G [00:15<00:51, 57.4MB/s]\u001b[A\n",
            "model-00002-of-00002.safetensors:  20% 724M/3.64G [00:15<00:47, 61.8MB/s]\u001b[A\n",
            "\n",
            "model-00001-of-00002.safetensors:  49% 2.45G/4.96G [00:15<00:13, 180MB/s]\u001b[A\u001b[A\n",
            "model-00002-of-00002.safetensors:  20% 734M/3.64G [00:15<00:45, 64.4MB/s]\u001b[A\n",
            "\n",
            "model-00001-of-00002.safetensors:  50% 2.47G/4.96G [00:15<00:13, 182MB/s]\u001b[A\u001b[A\n",
            "\n",
            "model-00001-of-00002.safetensors:  51% 2.51G/4.96G [00:15<00:12, 193MB/s]\u001b[A\u001b[A\n",
            "\n",
            "model-00001-of-00002.safetensors:  51% 2.54G/4.96G [00:15<00:11, 207MB/s]\u001b[A\u001b[A\n",
            "model-00002-of-00002.safetensors:  20% 744M/3.64G [00:15<00:57, 50.6MB/s]\u001b[A\n",
            "\n",
            "model-00001-of-00002.safetensors:  52% 2.57G/4.96G [00:15<00:11, 204MB/s]\u001b[A\u001b[A\n",
            "model-00002-of-00002.safetensors:  21% 755M/3.64G [00:15<00:51, 55.7MB/s]\u001b[A\n",
            "\n",
            "model-00001-of-00002.safetensors:  52% 2.59G/4.96G [00:15<00:12, 196MB/s]\u001b[A\u001b[A\n",
            "model-00002-of-00002.safetensors:  21% 765M/3.64G [00:16<00:52, 55.2MB/s]\u001b[A\n",
            "\n",
            "model-00001-of-00002.safetensors:  53% 2.61G/4.96G [00:15<00:13, 175MB/s]\u001b[A\u001b[A\n",
            "model-00002-of-00002.safetensors:  21% 776M/3.64G [00:16<00:47, 60.5MB/s]\u001b[A\n",
            "\n",
            "model-00001-of-00002.safetensors:  53% 2.63G/4.96G [00:16<00:13, 169MB/s]\u001b[A\u001b[A\n",
            "model-00002-of-00002.safetensors:  22% 786M/3.64G [00:16<00:44, 64.7MB/s]\u001b[A\n",
            "\n",
            "model-00001-of-00002.safetensors:  53% 2.65G/4.96G [00:16<00:14, 159MB/s]\u001b[A\u001b[A\n",
            "model-00002-of-00002.safetensors:  22% 797M/3.64G [00:16<00:42, 66.9MB/s]\u001b[A\n",
            "\n",
            "model-00001-of-00002.safetensors:  54% 2.67G/4.96G [00:16<00:14, 162MB/s]\u001b[A\u001b[A\n",
            "model-00002-of-00002.safetensors:  22% 807M/3.64G [00:16<00:42, 66.9MB/s]\u001b[A\n",
            "\n",
            "model-00001-of-00002.safetensors:  54% 2.69G/4.96G [00:16<00:13, 163MB/s]\u001b[A\u001b[A\n",
            "\n",
            "model-00001-of-00002.safetensors:  55% 2.72G/4.96G [00:16<00:12, 174MB/s]\u001b[A\u001b[A\n",
            "model-00002-of-00002.safetensors:  22% 818M/3.64G [00:16<00:43, 65.5MB/s]\u001b[A\n",
            "\n",
            "model-00001-of-00002.safetensors:  55% 2.74G/4.96G [00:16<00:12, 176MB/s]\u001b[A\u001b[A\n",
            "model-00002-of-00002.safetensors:  23% 828M/3.64G [00:17<00:42, 66.0MB/s]\u001b[A\n",
            "\n",
            "model-00001-of-00002.safetensors:  56% 2.76G/4.96G [00:16<00:12, 174MB/s]\u001b[A\u001b[A\n",
            "\n",
            "model-00001-of-00002.safetensors:  56% 2.78G/4.96G [00:16<00:11, 182MB/s]\u001b[A\u001b[A\n",
            "model-00002-of-00002.safetensors:  23% 839M/3.64G [00:17<00:46, 60.6MB/s]\u001b[A\n",
            "\n",
            "model-00001-of-00002.safetensors:  56% 2.80G/4.96G [00:17<00:12, 178MB/s]\u001b[A\u001b[A\n",
            "\n",
            "model-00001-of-00002.safetensors:  57% 2.83G/4.96G [00:17<00:11, 187MB/s]\u001b[A\u001b[A\n",
            "model-00002-of-00002.safetensors:  23% 849M/3.64G [00:17<00:51, 53.8MB/s]\u001b[A\n",
            "\n",
            "model-00001-of-00002.safetensors:  58% 2.86G/4.96G [00:17<00:10, 195MB/s]\u001b[A\u001b[A\n",
            "model-00002-of-00002.safetensors:  24% 860M/3.64G [00:17<00:48, 56.8MB/s]\u001b[A\n",
            "\n",
            "model-00001-of-00002.safetensors:  58% 2.88G/4.96G [00:17<00:10, 190MB/s]\u001b[A\u001b[A\n",
            "model-00002-of-00002.safetensors:  24% 870M/3.64G [00:17<00:43, 63.4MB/s]\u001b[A\n",
            "\n",
            "model-00001-of-00002.safetensors:  59% 2.90G/4.96G [00:17<00:11, 183MB/s]\u001b[A\u001b[A\n",
            "model-00002-of-00002.safetensors:  24% 881M/3.64G [00:17<00:45, 61.0MB/s]\u001b[A\n",
            "\n",
            "model-00001-of-00002.safetensors:  59% 2.93G/4.96G [00:17<00:11, 173MB/s]\u001b[A\u001b[A\n",
            "model-00002-of-00002.safetensors:  24% 891M/3.64G [00:18<00:42, 64.1MB/s]\u001b[A\n",
            "\n",
            "model-00001-of-00002.safetensors:  59% 2.95G/4.96G [00:17<00:11, 168MB/s]\u001b[A\u001b[A\n",
            "model-00002-of-00002.safetensors:  25% 902M/3.64G [00:18<00:42, 63.7MB/s]\u001b[A\n",
            "\n",
            "model-00001-of-00002.safetensors:  60% 2.98G/4.96G [00:17<00:11, 179MB/s]\u001b[A\u001b[A\n",
            "\n",
            "model-00001-of-00002.safetensors:  60% 3.00G/4.96G [00:18<00:10, 185MB/s]\u001b[A\u001b[A\n",
            "model-00002-of-00002.safetensors:  25% 912M/3.64G [00:18<00:41, 66.0MB/s]\u001b[A\n",
            "model-00002-of-00002.safetensors:  25% 923M/3.64G [00:18<00:38, 70.2MB/s]\u001b[A\n",
            "\n",
            "model-00001-of-00002.safetensors:  61% 3.03G/4.96G [00:18<00:10, 193MB/s]\u001b[A\u001b[A\n",
            "\n",
            "model-00001-of-00002.safetensors:  62% 3.05G/4.96G [00:18<00:09, 193MB/s]\u001b[A\u001b[A\n",
            "model-00002-of-00002.safetensors:  26% 933M/3.64G [00:18<00:38, 70.4MB/s]\u001b[A\n",
            "\n",
            "model-00001-of-00002.safetensors:  62% 3.07G/4.96G [00:18<00:09, 193MB/s]\u001b[A\u001b[A\n",
            "model-00002-of-00002.safetensors:  26% 944M/3.64G [00:18<00:37, 71.8MB/s]\u001b[A\n",
            "\n",
            "model-00001-of-00002.safetensors:  62% 3.09G/4.96G [00:18<00:09, 192MB/s]\u001b[A\u001b[A\n",
            "model-00002-of-00002.safetensors:  26% 954M/3.64G [00:18<00:37, 71.1MB/s]\u001b[A\n",
            "\n",
            "model-00001-of-00002.safetensors:  63% 3.12G/4.96G [00:18<00:08, 212MB/s]\u001b[A\u001b[A\n",
            "model-00002-of-00002.safetensors:  27% 965M/3.64G [00:19<00:35, 75.0MB/s]\u001b[A\n",
            "\n",
            "model-00001-of-00002.safetensors:  64% 3.16G/4.96G [00:18<00:08, 225MB/s]\u001b[A\u001b[A\n",
            "model-00002-of-00002.safetensors:  27% 975M/3.64G [00:19<00:35, 74.6MB/s]\u001b[A\n",
            "model-00002-of-00002.safetensors:  27% 986M/3.64G [00:19<00:38, 69.8MB/s]\u001b[A\n",
            "model-00002-of-00002.safetensors:  27% 996M/3.64G [00:19<00:42, 62.5MB/s]\u001b[A\n",
            "model-00002-of-00002.safetensors:  28% 1.01G/3.64G [00:19<00:46, 57.1MB/s]\u001b[A\n",
            "model-00002-of-00002.safetensors:  28% 1.02G/3.64G [00:20<00:43, 60.7MB/s]\u001b[A\n",
            "model-00002-of-00002.safetensors:  28% 1.03G/3.64G [00:20<00:40, 63.7MB/s]\u001b[A\n",
            "model-00002-of-00002.safetensors:  29% 1.04G/3.64G [00:20<00:38, 66.9MB/s]\u001b[A\n",
            "model-00002-of-00002.safetensors:  29% 1.05G/3.64G [00:20<00:40, 64.5MB/s]\u001b[A\n",
            "model-00002-of-00002.safetensors:  29% 1.06G/3.64G [00:20<00:38, 67.6MB/s]\u001b[A\n",
            "model-00002-of-00002.safetensors:  29% 1.07G/3.64G [00:20<00:37, 68.9MB/s]\u001b[A\n",
            "model-00002-of-00002.safetensors:  30% 1.08G/3.64G [00:20<00:36, 70.3MB/s]\u001b[A\n",
            "\n",
            "model-00001-of-00002.safetensors:  64% 3.19G/4.96G [00:20<00:40, 43.7MB/s]\u001b[A\u001b[A\n",
            "model-00002-of-00002.safetensors:  30% 1.09G/3.64G [00:21<00:36, 69.0MB/s]\u001b[A\n",
            "\n",
            "model-00001-of-00002.safetensors:  65% 3.22G/4.96G [00:20<00:29, 59.6MB/s]\u001b[A\u001b[A\n",
            "model-00002-of-00002.safetensors:  30% 1.10G/3.64G [00:21<00:35, 70.7MB/s]\u001b[A\n",
            "\n",
            "model-00001-of-00002.safetensors:  65% 3.24G/4.96G [00:20<00:24, 71.1MB/s]\u001b[A\u001b[A\n",
            "model-00002-of-00002.safetensors:  31% 1.11G/3.64G [00:21<00:35, 70.3MB/s]\u001b[A\n",
            "\n",
            "model-00001-of-00002.safetensors:  66% 3.27G/4.96G [00:21<00:18, 92.2MB/s]\u001b[A\u001b[A\n",
            "model-00002-of-00002.safetensors:  31% 1.12G/3.64G [00:21<00:34, 73.8MB/s]\u001b[A\n",
            "\n",
            "model-00001-of-00002.safetensors:  67% 3.30G/4.96G [00:21<00:14, 113MB/s] \u001b[A\u001b[A\n",
            "model-00002-of-00002.safetensors:  31% 1.13G/3.64G [00:21<00:36, 67.9MB/s]\u001b[A\n",
            "\n",
            "model-00001-of-00002.safetensors:  67% 3.33G/4.96G [00:21<00:11, 137MB/s]\u001b[A\u001b[A\n",
            "\n",
            "model-00001-of-00002.safetensors:  68% 3.37G/4.96G [00:21<00:09, 164MB/s]\u001b[A\u001b[A\n",
            "model-00002-of-00002.safetensors:  31% 1.14G/3.64G [00:21<00:38, 64.5MB/s]\u001b[A\n",
            "\n",
            "model-00001-of-00002.safetensors:  68% 3.40G/4.96G [00:21<00:08, 187MB/s]\u001b[A\u001b[A\n",
            "model-00002-of-00002.safetensors:  32% 1.15G/3.64G [00:21<00:38, 65.1MB/s]\u001b[A\n",
            "\n",
            "model-00001-of-00002.safetensors:  69% 3.43G/4.96G [00:21<00:07, 208MB/s]\u001b[A\u001b[A\n",
            "\n",
            "model-00001-of-00002.safetensors:  70% 3.46G/4.96G [00:21<00:06, 232MB/s]\u001b[A\u001b[A\n",
            "model-00002-of-00002.safetensors:  32% 1.16G/3.64G [00:22<00:36, 67.6MB/s]\u001b[A\n",
            "\n",
            "model-00001-of-00002.safetensors:  70% 3.49G/4.96G [00:21<00:06, 224MB/s]\u001b[A\u001b[A\n",
            "model-00002-of-00002.safetensors:  32% 1.17G/3.64G [00:22<00:37, 66.0MB/s]\u001b[A\n",
            "\n",
            "model-00001-of-00002.safetensors:  71% 3.52G/4.96G [00:22<00:06, 206MB/s]\u001b[A\u001b[A\n",
            "model-00002-of-00002.safetensors:  33% 1.18G/3.64G [00:22<00:37, 65.6MB/s]\u001b[A\n",
            "\n",
            "model-00001-of-00002.safetensors:  72% 3.55G/4.96G [00:22<00:06, 210MB/s]\u001b[A\u001b[A\n",
            "model-00002-of-00002.safetensors:  33% 1.20G/3.64G [00:22<00:38, 63.9MB/s]\u001b[A\n",
            "\n",
            "model-00001-of-00002.safetensors:  72% 3.59G/4.96G [00:22<00:06, 208MB/s]\u001b[A\u001b[A\n",
            "model-00002-of-00002.safetensors:  33% 1.21G/3.64G [00:22<00:38, 64.0MB/s]\u001b[A\n",
            "\n",
            "model-00001-of-00002.safetensors:  73% 3.62G/4.96G [00:22<00:06, 202MB/s]\u001b[A\u001b[A\n",
            "model-00002-of-00002.safetensors:  33% 1.22G/3.64G [00:22<00:36, 67.0MB/s]\u001b[A\n",
            "\n",
            "model-00001-of-00002.safetensors:  74% 3.65G/4.96G [00:22<00:06, 200MB/s]\u001b[A\u001b[A\n",
            "model-00002-of-00002.safetensors:  34% 1.23G/3.64G [00:23<00:35, 68.4MB/s]\u001b[A\n",
            "model-00002-of-00002.safetensors:  34% 1.24G/3.64G [00:23<00:34, 69.6MB/s]\u001b[A\n",
            "\n",
            "model-00001-of-00002.safetensors:  74% 3.67G/4.96G [00:22<00:07, 177MB/s]\u001b[A\u001b[A\n",
            "\n",
            "model-00001-of-00002.safetensors:  74% 3.69G/4.96G [00:23<00:07, 179MB/s]\u001b[A\u001b[A\n",
            "model-00002-of-00002.safetensors:  34% 1.25G/3.64G [00:23<00:34, 70.3MB/s]\u001b[A\n",
            "\n",
            "model-00001-of-00002.safetensors:  75% 3.72G/4.96G [00:23<00:06, 196MB/s]\u001b[A\u001b[A\n",
            "model-00002-of-00002.safetensors:  35% 1.26G/3.64G [00:23<00:32, 73.2MB/s]\u001b[A\n",
            "\n",
            "model-00001-of-00002.safetensors:  75% 3.74G/4.96G [00:23<00:06, 184MB/s]\u001b[A\u001b[A\n",
            "model-00002-of-00002.safetensors:  35% 1.27G/3.64G [00:23<00:37, 63.1MB/s]\u001b[A\n",
            "\n",
            "model-00001-of-00002.safetensors:  76% 3.77G/4.96G [00:23<00:05, 198MB/s]\u001b[A\u001b[A\n",
            "\n",
            "model-00001-of-00002.safetensors:  77% 3.80G/4.96G [00:23<00:06, 190MB/s]\u001b[A\u001b[A\n",
            "model-00002-of-00002.safetensors:  35% 1.28G/3.64G [00:23<00:40, 58.7MB/s]\u001b[A\n",
            "\n",
            "model-00001-of-00002.safetensors:  77% 3.82G/4.96G [00:23<00:06, 185MB/s]\u001b[A\u001b[A\n",
            "model-00002-of-00002.safetensors:  35% 1.29G/3.64G [00:24<00:40, 58.3MB/s]\u001b[A\n",
            "\n",
            "model-00001-of-00002.safetensors:  78% 3.85G/4.96G [00:23<00:05, 205MB/s]\u001b[A\u001b[A\n",
            "\n",
            "model-00001-of-00002.safetensors:  78% 3.87G/4.96G [00:23<00:05, 201MB/s]\u001b[A\u001b[A\n",
            "model-00002-of-00002.safetensors:  36% 1.30G/3.64G [00:24<00:38, 60.5MB/s]\u001b[A\n",
            "\n",
            "model-00001-of-00002.safetensors:  78% 3.89G/4.96G [00:24<00:05, 185MB/s]\u001b[A\u001b[A\n",
            "model-00002-of-00002.safetensors:  36% 1.31G/3.64G [00:24<00:39, 58.3MB/s]\u001b[A\n",
            "\n",
            "model-00001-of-00002.safetensors:  79% 3.91G/4.96G [00:24<00:05, 183MB/s]\u001b[A\u001b[A\n",
            "\n",
            "model-00001-of-00002.safetensors:  79% 3.93G/4.96G [00:24<00:05, 188MB/s]\u001b[A\u001b[A\n",
            "model-00002-of-00002.safetensors:  36% 1.32G/3.64G [00:24<00:40, 57.0MB/s]\u001b[A\n",
            "model-00002-of-00002.safetensors:  37% 1.33G/3.64G [00:25<01:34, 24.3MB/s]\u001b[A\n",
            "\n",
            "model-00001-of-00002.safetensors:  80% 3.96G/4.96G [00:26<00:29, 34.1MB/s]\u001b[A\u001b[A\n",
            "\n",
            "model-00001-of-00002.safetensors:  81% 4.01G/4.96G [00:26<00:17, 54.7MB/s]\u001b[A\u001b[A\n",
            "model-00002-of-00002.safetensors:  37% 1.34G/3.64G [00:26<02:33, 15.0MB/s]\u001b[A\n",
            "\n",
            "model-00001-of-00002.safetensors:  82% 4.05G/4.96G [00:26<00:11, 78.7MB/s]\u001b[A\u001b[A\n",
            "model-00002-of-00002.safetensors:  37% 1.36G/3.64G [00:27<01:29, 25.5MB/s]\u001b[A\n",
            "\n",
            "model-00001-of-00002.safetensors:  82% 4.08G/4.96G [00:26<00:09, 92.0MB/s]\u001b[A\u001b[A\n",
            "model-00002-of-00002.safetensors:  38% 1.37G/3.64G [00:27<01:13, 30.9MB/s]\u001b[A\n",
            "\n",
            "model-00001-of-00002.safetensors:  83% 4.11G/4.96G [00:27<00:07, 113MB/s] \u001b[A\u001b[A\n",
            "model-00002-of-00002.safetensors:  38% 1.38G/3.64G [00:27<01:01, 36.5MB/s]\u001b[A\n",
            "\n",
            "model-00001-of-00002.safetensors:  83% 4.14G/4.96G [00:27<00:06, 134MB/s]\u001b[A\u001b[A\n",
            "model-00002-of-00002.safetensors:  38% 1.39G/3.64G [00:27<00:52, 42.7MB/s]\u001b[A\n",
            "\n",
            "model-00001-of-00002.safetensors:  84% 4.17G/4.96G [00:27<00:05, 157MB/s]\u001b[A\u001b[A\n",
            "\n",
            "model-00001-of-00002.safetensors:  85% 4.20G/4.96G [00:27<00:04, 183MB/s]\u001b[A\u001b[A\n",
            "model-00002-of-00002.safetensors:  39% 1.41G/3.64G [00:27<00:48, 46.1MB/s]\u001b[A\n",
            "\n",
            "model-00001-of-00002.safetensors:  85% 4.24G/4.96G [00:27<00:03, 207MB/s]\u001b[A\u001b[A\n",
            "model-00002-of-00002.safetensors:  39% 1.42G/3.64G [00:27<00:45, 49.4MB/s]\u001b[A\n",
            "\n",
            "model-00001-of-00002.safetensors:  86% 4.27G/4.96G [00:27<00:03, 211MB/s]\u001b[A\u001b[A\n",
            "model-00002-of-00002.safetensors:  39% 1.43G/3.64G [00:28<00:40, 55.1MB/s]\u001b[A\n",
            "\n",
            "model-00001-of-00002.safetensors:  87% 4.30G/4.96G [00:27<00:02, 223MB/s]\u001b[A\u001b[A\n",
            "model-00002-of-00002.safetensors:  39% 1.44G/3.64G [00:28<00:36, 60.1MB/s]\u001b[A\n",
            "\n",
            "model-00001-of-00002.safetensors:  87% 4.33G/4.96G [00:27<00:02, 231MB/s]\u001b[A\u001b[A\n",
            "model-00002-of-00002.safetensors:  40% 1.45G/3.64G [00:28<00:34, 63.2MB/s]\u001b[A\n",
            "\n",
            "model-00001-of-00002.safetensors:  88% 4.36G/4.96G [00:28<00:03, 191MB/s]\u001b[A\u001b[A\n",
            "model-00002-of-00002.safetensors:  40% 1.46G/3.64G [00:28<00:32, 66.9MB/s]\u001b[A\n",
            "model-00002-of-00002.safetensors:  40% 1.47G/3.64G [00:28<00:31, 69.8MB/s]\u001b[A\n",
            "\n",
            "model-00001-of-00002.safetensors:  89% 4.39G/4.96G [00:28<00:03, 184MB/s]\u001b[A\u001b[A\n",
            "model-00002-of-00002.safetensors:  41% 1.48G/3.64G [00:28<00:30, 70.8MB/s]\u001b[A\n",
            "\n",
            "model-00001-of-00002.safetensors:  89% 4.42G/4.96G [00:28<00:02, 196MB/s]\u001b[A\u001b[A\n",
            "model-00002-of-00002.safetensors:  41% 1.49G/3.64G [00:28<00:30, 71.6MB/s]\u001b[A\n",
            "\n",
            "model-00001-of-00002.safetensors:  90% 4.46G/4.96G [00:30<00:12, 41.8MB/s]\u001b[A\u001b[A\n",
            "model-00002-of-00002.safetensors:  41% 1.50G/3.64G [00:30<02:24, 14.8MB/s]\u001b[A\n",
            "\n",
            "model-00001-of-00002.safetensors:  90% 4.49G/4.96G [00:30<00:08, 56.0MB/s]\u001b[A\u001b[A\n",
            "model-00002-of-00002.safetensors:  42% 1.52G/3.64G [00:31<01:23, 25.5MB/s]\u001b[A\n",
            "\n",
            "model-00001-of-00002.safetensors:  91% 4.52G/4.96G [00:30<00:06, 72.8MB/s]\u001b[A\u001b[A\n",
            "model-00002-of-00002.safetensors:  42% 1.53G/3.64G [00:31<01:09, 30.4MB/s]\u001b[A\n",
            "\n",
            "model-00001-of-00002.safetensors:  92% 4.54G/4.96G [00:30<00:04, 84.6MB/s]\u001b[A\u001b[A\n",
            "\n",
            "model-00001-of-00002.safetensors:  92% 4.57G/4.96G [00:31<00:03, 109MB/s] \u001b[A\u001b[A\n",
            "model-00002-of-00002.safetensors:  42% 1.54G/3.64G [00:31<01:03, 32.9MB/s]\u001b[A\n",
            "\n",
            "model-00001-of-00002.safetensors:  93% 4.60G/4.96G [00:31<00:02, 132MB/s]\u001b[A\u001b[A\n",
            "model-00002-of-00002.safetensors:  43% 1.55G/3.64G [00:31<00:53, 38.7MB/s]\u001b[A\n",
            "\n",
            "model-00001-of-00002.safetensors:  93% 4.63G/4.96G [00:31<00:02, 149MB/s]\u001b[A\u001b[A\n",
            "model-00002-of-00002.safetensors:  43% 1.56G/3.64G [00:31<00:48, 42.6MB/s]\u001b[A\n",
            "\n",
            "model-00001-of-00002.safetensors:  94% 4.67G/4.96G [00:31<00:01, 172MB/s]\u001b[A\u001b[A\n",
            "\n",
            "model-00001-of-00002.safetensors:  95% 4.70G/4.96G [00:31<00:01, 199MB/s]\u001b[A\u001b[A\n",
            "model-00002-of-00002.safetensors:  43% 1.57G/3.64G [00:31<00:42, 49.2MB/s]\u001b[A\n",
            "\n",
            "model-00001-of-00002.safetensors:  95% 4.73G/4.96G [00:31<00:01, 204MB/s]\u001b[A\u001b[A\n",
            "model-00002-of-00002.safetensors:  44% 1.58G/3.64G [00:32<00:38, 54.0MB/s]\u001b[A\n",
            "\n",
            "model-00001-of-00002.safetensors:  96% 4.76G/4.96G [00:31<00:00, 212MB/s]\u001b[A\u001b[A\n",
            "model-00002-of-00002.safetensors:  44% 1.59G/3.64G [00:32<00:34, 58.7MB/s]\u001b[A\n",
            "\n",
            "model-00001-of-00002.safetensors:  97% 4.79G/4.96G [00:31<00:00, 225MB/s]\u001b[A\u001b[A\n",
            "model-00002-of-00002.safetensors:  44% 1.60G/3.64G [00:32<00:32, 62.6MB/s]\u001b[A\n",
            "\n",
            "model-00001-of-00002.safetensors:  97% 4.82G/4.96G [00:32<00:00, 244MB/s]\u001b[A\u001b[A\n",
            "model-00002-of-00002.safetensors:  44% 1.61G/3.64G [00:32<00:30, 65.9MB/s]\u001b[A\n",
            "\n",
            "model-00001-of-00002.safetensors:  98% 4.85G/4.96G [00:32<00:00, 209MB/s]\u001b[A\u001b[A\n",
            "model-00002-of-00002.safetensors:  45% 1.63G/3.64G [00:32<00:29, 68.3MB/s]\u001b[A\n",
            "\n",
            "model-00001-of-00002.safetensors:  98% 4.89G/4.96G [00:32<00:00, 211MB/s]\u001b[A\u001b[A\n",
            "model-00002-of-00002.safetensors:  45% 1.64G/3.64G [00:32<00:29, 67.9MB/s]\u001b[A\n",
            "\n",
            "model-00001-of-00002.safetensors:  99% 4.92G/4.96G [00:32<00:00, 204MB/s]\u001b[A\u001b[A\n",
            "model-00002-of-00002.safetensors:  45% 1.65G/3.64G [00:32<00:28, 69.9MB/s]\u001b[A\n",
            "\n",
            "model-00001-of-00002.safetensors: 100% 4.96G/4.96G [00:34<00:00, 143MB/s] \n",
            "Fetching 2 files:  50% 1/2 [00:35<00:35, 35.18s/it]\n",
            "model-00002-of-00002.safetensors:  46% 1.66G/3.64G [00:35<02:25, 13.6MB/s]\u001b[A\n",
            "model-00002-of-00002.safetensors:  46% 1.67G/3.64G [00:35<01:47, 18.3MB/s]\u001b[A\n",
            "model-00002-of-00002.safetensors:  46% 1.69G/3.64G [00:35<01:05, 29.8MB/s]\u001b[A\n",
            "model-00002-of-00002.safetensors:  47% 1.70G/3.64G [00:35<00:55, 35.1MB/s]\u001b[A\n",
            "model-00002-of-00002.safetensors:  47% 1.71G/3.64G [00:35<00:47, 40.7MB/s]\u001b[A\n",
            "model-00002-of-00002.safetensors:  47% 1.72G/3.64G [00:35<00:41, 46.5MB/s]\u001b[A\n",
            "model-00002-of-00002.safetensors:  48% 1.73G/3.64G [00:35<00:36, 52.2MB/s]\u001b[A\n",
            "model-00002-of-00002.safetensors:  48% 1.74G/3.64G [00:36<00:38, 49.8MB/s]\u001b[A\n",
            "model-00002-of-00002.safetensors:  48% 1.75G/3.64G [00:36<00:34, 54.9MB/s]\u001b[A\n",
            "model-00002-of-00002.safetensors:  48% 1.76G/3.64G [00:36<00:31, 59.8MB/s]\u001b[A\n",
            "model-00002-of-00002.safetensors:  49% 1.77G/3.64G [00:36<00:29, 63.4MB/s]\u001b[A\n",
            "model-00002-of-00002.safetensors:  49% 1.78G/3.64G [00:36<00:28, 64.3MB/s]\u001b[A\n",
            "model-00002-of-00002.safetensors:  49% 1.79G/3.64G [00:36<00:27, 67.6MB/s]\u001b[A\n",
            "model-00002-of-00002.safetensors:  50% 1.80G/3.64G [00:37<00:26, 69.6MB/s]\u001b[A\n",
            "model-00002-of-00002.safetensors:  50% 1.81G/3.64G [00:37<00:28, 63.5MB/s]\u001b[A\n",
            "model-00002-of-00002.safetensors:  50% 1.82G/3.64G [00:37<00:27, 66.4MB/s]\u001b[A\n",
            "model-00002-of-00002.safetensors:  50% 1.84G/3.64G [00:37<00:28, 63.5MB/s]\u001b[A\n",
            "model-00002-of-00002.safetensors:  51% 1.85G/3.64G [00:37<00:27, 65.1MB/s]\u001b[A\n",
            "model-00002-of-00002.safetensors:  51% 1.86G/3.64G [00:37<00:30, 58.1MB/s]\u001b[A\n",
            "model-00002-of-00002.safetensors:  51% 1.87G/3.64G [00:38<00:29, 59.3MB/s]\u001b[A\n",
            "model-00002-of-00002.safetensors:  52% 1.88G/3.64G [00:38<00:27, 63.5MB/s]\u001b[A\n",
            "model-00002-of-00002.safetensors:  52% 1.89G/3.64G [00:38<00:32, 54.3MB/s]\u001b[A\n",
            "model-00002-of-00002.safetensors:  52% 1.90G/3.64G [00:38<00:31, 55.1MB/s]\u001b[A\n",
            "model-00002-of-00002.safetensors:  52% 1.91G/3.64G [00:38<00:31, 55.1MB/s]\u001b[A\n",
            "model-00002-of-00002.safetensors:  53% 1.92G/3.64G [00:39<00:29, 59.0MB/s]\u001b[A\n",
            "model-00002-of-00002.safetensors:  53% 1.93G/3.64G [00:39<00:27, 61.4MB/s]\u001b[A\n",
            "model-00002-of-00002.safetensors:  53% 1.94G/3.64G [00:39<00:27, 62.2MB/s]\u001b[A\n",
            "model-00002-of-00002.safetensors:  54% 1.95G/3.64G [00:39<00:26, 64.0MB/s]\u001b[A\n",
            "model-00002-of-00002.safetensors:  54% 1.96G/3.64G [00:39<00:28, 58.5MB/s]\u001b[A\n",
            "model-00002-of-00002.safetensors:  54% 1.97G/3.64G [00:39<00:27, 61.4MB/s]\u001b[A\n",
            "model-00002-of-00002.safetensors:  54% 1.98G/3.64G [00:40<00:25, 64.1MB/s]\u001b[A\n",
            "model-00002-of-00002.safetensors:  55% 1.99G/3.64G [00:40<00:32, 50.4MB/s]\u001b[A\n",
            "model-00002-of-00002.safetensors:  55% 2.00G/3.64G [00:40<00:30, 54.5MB/s]\u001b[A\n",
            "model-00002-of-00002.safetensors:  55% 2.01G/3.64G [00:40<00:27, 58.3MB/s]\u001b[A\n",
            "model-00002-of-00002.safetensors:  56% 2.02G/3.64G [00:40<00:31, 50.8MB/s]\u001b[A\n",
            "model-00002-of-00002.safetensors:  56% 2.03G/3.64G [00:41<00:32, 49.1MB/s]\u001b[A\n",
            "model-00002-of-00002.safetensors:  56% 2.04G/3.64G [00:41<00:34, 46.2MB/s]\u001b[A\n",
            "model-00002-of-00002.safetensors:  56% 2.06G/3.64G [00:41<00:30, 52.5MB/s]\u001b[A\n",
            "model-00002-of-00002.safetensors:  57% 2.07G/3.64G [00:41<00:31, 49.4MB/s]\u001b[A\n",
            "model-00002-of-00002.safetensors:  57% 2.08G/3.64G [00:41<00:29, 52.5MB/s]\u001b[A\n",
            "model-00002-of-00002.safetensors:  57% 2.09G/3.64G [00:42<00:30, 50.7MB/s]\u001b[A\n",
            "model-00002-of-00002.safetensors:  58% 2.10G/3.64G [00:42<00:27, 56.2MB/s]\u001b[A\n",
            "model-00002-of-00002.safetensors:  58% 2.11G/3.64G [00:42<00:25, 60.3MB/s]\u001b[A\n",
            "model-00002-of-00002.safetensors:  58% 2.12G/3.64G [00:42<00:23, 64.6MB/s]\u001b[A\n",
            "model-00002-of-00002.safetensors:  58% 2.13G/3.64G [00:42<00:22, 66.1MB/s]\u001b[A\n",
            "model-00002-of-00002.safetensors:  59% 2.14G/3.64G [00:42<00:21, 68.6MB/s]\u001b[A\n",
            "model-00002-of-00002.safetensors:  59% 2.15G/3.64G [00:43<00:22, 66.6MB/s]\u001b[A\n",
            "model-00002-of-00002.safetensors:  59% 2.16G/3.64G [00:43<00:24, 59.7MB/s]\u001b[A\n",
            "model-00002-of-00002.safetensors:  60% 2.17G/3.64G [00:43<00:22, 63.9MB/s]\u001b[A\n",
            "model-00002-of-00002.safetensors:  60% 2.18G/3.64G [00:43<00:23, 62.5MB/s]\u001b[A\n",
            "model-00002-of-00002.safetensors:  60% 2.19G/3.64G [00:43<00:25, 57.6MB/s]\u001b[A\n",
            "model-00002-of-00002.safetensors:  61% 2.20G/3.64G [00:43<00:23, 62.0MB/s]\u001b[A\n",
            "model-00002-of-00002.safetensors:  61% 2.21G/3.64G [00:44<00:21, 66.3MB/s]\u001b[A\n",
            "model-00002-of-00002.safetensors:  61% 2.22G/3.64G [00:44<00:20, 69.2MB/s]\u001b[A\n",
            "model-00002-of-00002.safetensors:  61% 2.23G/3.64G [00:44<00:19, 71.4MB/s]\u001b[A\n",
            "model-00002-of-00002.safetensors:  62% 2.24G/3.64G [00:44<00:20, 68.3MB/s]\u001b[A\n",
            "model-00002-of-00002.safetensors:  62% 2.25G/3.64G [00:44<00:20, 68.2MB/s]\u001b[A\n",
            "model-00002-of-00002.safetensors:  62% 2.26G/3.64G [00:44<00:19, 69.6MB/s]\u001b[A\n",
            "model-00002-of-00002.safetensors:  63% 2.28G/3.64G [00:44<00:19, 69.2MB/s]\u001b[A\n",
            "model-00002-of-00002.safetensors:  63% 2.29G/3.64G [00:45<00:19, 71.2MB/s]\u001b[A\n",
            "model-00002-of-00002.safetensors:  63% 2.30G/3.64G [00:45<00:18, 71.9MB/s]\u001b[A\n",
            "model-00002-of-00002.safetensors:  63% 2.31G/3.64G [00:45<00:23, 55.8MB/s]\u001b[A\n",
            "model-00002-of-00002.safetensors:  64% 2.33G/3.64G [00:45<00:19, 67.9MB/s]\u001b[A\n",
            "model-00002-of-00002.safetensors:  64% 2.34G/3.64G [00:45<00:18, 69.6MB/s]\u001b[A\n",
            "model-00002-of-00002.safetensors:  65% 2.35G/3.64G [00:46<00:18, 69.2MB/s]\u001b[A\n",
            "model-00002-of-00002.safetensors:  65% 2.36G/3.64G [00:46<00:20, 61.3MB/s]\u001b[A\n",
            "model-00002-of-00002.safetensors:  65% 2.37G/3.64G [00:46<00:19, 63.8MB/s]\u001b[A\n",
            "model-00002-of-00002.safetensors:  65% 2.38G/3.64G [00:46<00:20, 62.8MB/s]\u001b[A\n",
            "model-00002-of-00002.safetensors:  66% 2.39G/3.64G [00:46<00:23, 52.6MB/s]\u001b[A\n",
            "model-00002-of-00002.safetensors:  66% 2.40G/3.64G [00:47<00:22, 55.3MB/s]\u001b[A\n",
            "model-00002-of-00002.safetensors:  66% 2.41G/3.64G [00:47<00:20, 60.1MB/s]\u001b[A\n",
            "model-00002-of-00002.safetensors:  67% 2.42G/3.64G [00:47<00:19, 63.2MB/s]\u001b[A\n",
            "model-00002-of-00002.safetensors:  67% 2.43G/3.64G [00:47<00:19, 62.9MB/s]\u001b[A\n",
            "model-00002-of-00002.safetensors:  67% 2.44G/3.64G [00:47<00:19, 60.1MB/s]\u001b[A\n",
            "model-00002-of-00002.safetensors:  67% 2.45G/3.64G [00:47<00:19, 60.9MB/s]\u001b[A\n",
            "model-00002-of-00002.safetensors:  68% 2.46G/3.64G [00:48<00:20, 56.5MB/s]\u001b[A\n",
            "model-00002-of-00002.safetensors:  68% 2.47G/3.64G [00:48<00:19, 59.4MB/s]\u001b[A\n",
            "model-00002-of-00002.safetensors:  68% 2.49G/3.64G [00:48<00:18, 63.9MB/s]\u001b[A\n",
            "model-00002-of-00002.safetensors:  69% 2.50G/3.64G [00:48<00:19, 58.9MB/s]\u001b[A\n",
            "model-00002-of-00002.safetensors:  69% 2.51G/3.64G [00:48<00:18, 62.8MB/s]\u001b[A\n",
            "model-00002-of-00002.safetensors:  69% 2.52G/3.64G [00:48<00:16, 66.2MB/s]\u001b[A\n",
            "model-00002-of-00002.safetensors:  69% 2.53G/3.64G [00:48<00:16, 68.8MB/s]\u001b[A\n",
            "model-00002-of-00002.safetensors:  70% 2.54G/3.64G [00:49<00:16, 68.7MB/s]\u001b[A\n",
            "model-00002-of-00002.safetensors:  70% 2.55G/3.64G [00:49<00:16, 68.0MB/s]\u001b[A\n",
            "model-00002-of-00002.safetensors:  70% 2.56G/3.64G [00:49<00:18, 59.6MB/s]\u001b[A\n",
            "model-00002-of-00002.safetensors:  71% 2.57G/3.64G [00:49<00:16, 63.3MB/s]\u001b[A\n",
            "model-00002-of-00002.safetensors:  71% 2.58G/3.64G [00:49<00:15, 67.4MB/s]\u001b[A\n",
            "model-00002-of-00002.safetensors:  71% 2.59G/3.64G [00:49<00:15, 67.4MB/s]\u001b[A\n",
            "model-00002-of-00002.safetensors:  71% 2.60G/3.64G [00:50<00:17, 61.0MB/s]\u001b[A\n",
            "model-00002-of-00002.safetensors:  72% 2.61G/3.64G [00:50<00:16, 64.2MB/s]\u001b[A\n",
            "model-00002-of-00002.safetensors:  72% 2.62G/3.64G [00:50<00:15, 67.4MB/s]\u001b[A\n",
            "model-00002-of-00002.safetensors:  72% 2.63G/3.64G [00:50<00:14, 68.4MB/s]\u001b[A\n",
            "model-00002-of-00002.safetensors:  73% 2.64G/3.64G [00:50<00:14, 67.3MB/s]\u001b[A\n",
            "model-00002-of-00002.safetensors:  73% 2.65G/3.64G [00:50<00:14, 69.1MB/s]\u001b[A\n",
            "model-00002-of-00002.safetensors:  73% 2.66G/3.64G [00:51<00:17, 57.1MB/s]\u001b[A\n",
            "model-00002-of-00002.safetensors:  73% 2.67G/3.64G [00:51<00:15, 60.4MB/s]\u001b[A\n",
            "model-00002-of-00002.safetensors:  74% 2.68G/3.64G [00:51<00:14, 63.9MB/s]\u001b[A\n",
            "model-00002-of-00002.safetensors:  74% 2.69G/3.64G [00:51<00:14, 63.8MB/s]\u001b[A\n",
            "model-00002-of-00002.safetensors:  74% 2.71G/3.64G [00:51<00:18, 51.5MB/s]\u001b[A\n",
            "model-00002-of-00002.safetensors:  75% 2.72G/3.64G [00:52<00:16, 56.9MB/s]\u001b[A\n",
            "model-00002-of-00002.safetensors:  75% 2.73G/3.64G [00:52<00:14, 61.6MB/s]\u001b[A\n",
            "model-00002-of-00002.safetensors:  75% 2.74G/3.64G [00:52<00:13, 64.8MB/s]\u001b[A\n",
            "model-00002-of-00002.safetensors:  75% 2.75G/3.64G [00:52<00:13, 65.5MB/s]\u001b[A\n",
            "model-00002-of-00002.safetensors:  76% 2.76G/3.64G [00:52<00:13, 67.0MB/s]\u001b[A\n",
            "model-00002-of-00002.safetensors:  76% 2.77G/3.64G [00:52<00:15, 54.8MB/s]\u001b[A\n",
            "model-00002-of-00002.safetensors:  76% 2.78G/3.64G [00:53<00:14, 59.3MB/s]\u001b[A\n",
            "model-00002-of-00002.safetensors:  77% 2.79G/3.64G [00:53<00:13, 63.8MB/s]\u001b[A\n",
            "model-00002-of-00002.safetensors:  77% 2.80G/3.64G [00:53<00:14, 59.6MB/s]\u001b[A\n",
            "model-00002-of-00002.safetensors:  77% 2.81G/3.64G [00:53<00:13, 63.0MB/s]\u001b[A\n",
            "model-00002-of-00002.safetensors:  78% 2.82G/3.64G [00:53<00:12, 66.4MB/s]\u001b[A\n",
            "model-00002-of-00002.safetensors:  78% 2.83G/3.64G [00:53<00:12, 64.5MB/s]\u001b[A\n",
            "model-00002-of-00002.safetensors:  78% 2.84G/3.64G [00:53<00:12, 63.5MB/s]\u001b[A\n",
            "model-00002-of-00002.safetensors:  78% 2.85G/3.64G [00:54<00:13, 59.8MB/s]\u001b[A\n",
            "model-00002-of-00002.safetensors:  79% 2.86G/3.64G [00:54<00:12, 61.1MB/s]\u001b[A\n",
            "model-00002-of-00002.safetensors:  79% 2.87G/3.64G [00:54<00:12, 59.5MB/s]\u001b[A\n",
            "model-00002-of-00002.safetensors:  79% 2.88G/3.64G [00:54<00:13, 54.6MB/s]\u001b[A\n",
            "model-00002-of-00002.safetensors:  80% 2.89G/3.64G [00:55<00:14, 50.6MB/s]\u001b[A\n",
            "model-00002-of-00002.safetensors:  80% 2.90G/3.64G [00:55<00:15, 47.8MB/s]\u001b[A\n",
            "model-00002-of-00002.safetensors:  80% 2.92G/3.64G [00:55<00:15, 47.2MB/s]\u001b[A\n",
            "model-00002-of-00002.safetensors:  80% 2.93G/3.64G [00:55<00:13, 52.8MB/s]\u001b[A\n",
            "model-00002-of-00002.safetensors:  81% 2.94G/3.64G [00:55<00:12, 56.6MB/s]\u001b[A\n",
            "model-00002-of-00002.safetensors:  81% 2.95G/3.64G [00:55<00:11, 60.9MB/s]\u001b[A\n",
            "model-00002-of-00002.safetensors:  81% 2.96G/3.64G [00:56<00:10, 64.6MB/s]\u001b[A\n",
            "model-00002-of-00002.safetensors:  82% 2.97G/3.64G [00:56<00:09, 67.5MB/s]\u001b[A\n",
            "model-00002-of-00002.safetensors:  82% 2.98G/3.64G [00:56<00:09, 70.4MB/s]\u001b[A\n",
            "model-00002-of-00002.safetensors:  82% 2.99G/3.64G [00:56<00:11, 57.4MB/s]\u001b[A\n",
            "model-00002-of-00002.safetensors:  82% 3.00G/3.64G [00:56<00:10, 62.6MB/s]\u001b[A\n",
            "model-00002-of-00002.safetensors:  83% 3.01G/3.64G [00:56<00:09, 65.3MB/s]\u001b[A\n",
            "model-00002-of-00002.safetensors:  83% 3.02G/3.64G [00:57<00:09, 66.9MB/s]\u001b[A\n",
            "model-00002-of-00002.safetensors:  83% 3.03G/3.64G [00:57<00:08, 69.7MB/s]\u001b[A\n",
            "model-00002-of-00002.safetensors:  84% 3.04G/3.64G [00:57<00:08, 71.1MB/s]\u001b[A\n",
            "model-00002-of-00002.safetensors:  84% 3.05G/3.64G [00:57<00:08, 69.2MB/s]\u001b[A\n",
            "model-00002-of-00002.safetensors:  84% 3.06G/3.64G [00:57<00:08, 66.0MB/s]\u001b[A\n",
            "model-00002-of-00002.safetensors:  84% 3.07G/3.64G [00:57<00:09, 60.1MB/s]\u001b[A\n",
            "model-00002-of-00002.safetensors:  85% 3.08G/3.64G [00:58<00:09, 59.3MB/s]\u001b[A\n",
            "model-00002-of-00002.safetensors:  85% 3.09G/3.64G [00:58<00:09, 60.5MB/s]\u001b[A\n",
            "model-00002-of-00002.safetensors:  85% 3.10G/3.64G [00:58<00:10, 50.4MB/s]\u001b[A\n",
            "model-00002-of-00002.safetensors:  86% 3.11G/3.64G [00:58<00:09, 52.5MB/s]\u001b[A\n",
            "model-00002-of-00002.safetensors:  86% 3.12G/3.64G [00:58<00:09, 56.1MB/s]\u001b[A\n",
            "model-00002-of-00002.safetensors:  86% 3.14G/3.64G [00:59<00:10, 49.0MB/s]\u001b[A\n",
            "model-00002-of-00002.safetensors:  86% 3.15G/3.64G [00:59<00:10, 48.2MB/s]\u001b[A\n",
            "model-00002-of-00002.safetensors:  87% 3.16G/3.64G [00:59<00:08, 54.3MB/s]\u001b[A\n",
            "model-00002-of-00002.safetensors:  87% 3.17G/3.64G [00:59<00:08, 58.6MB/s]\u001b[A\n",
            "model-00002-of-00002.safetensors:  87% 3.18G/3.64G [00:59<00:07, 61.3MB/s]\u001b[A\n",
            "model-00002-of-00002.safetensors:  88% 3.19G/3.64G [00:59<00:06, 64.8MB/s]\u001b[A\n",
            "model-00002-of-00002.safetensors:  88% 3.20G/3.64G [01:00<00:06, 68.0MB/s]\u001b[A\n",
            "model-00002-of-00002.safetensors:  88% 3.21G/3.64G [01:00<00:06, 68.5MB/s]\u001b[A\n",
            "model-00002-of-00002.safetensors:  88% 3.22G/3.64G [01:00<00:06, 69.3MB/s]\u001b[A\n",
            "model-00002-of-00002.safetensors:  89% 3.23G/3.64G [01:00<00:05, 70.5MB/s]\u001b[A\n",
            "model-00002-of-00002.safetensors:  89% 3.24G/3.64G [01:00<00:05, 71.1MB/s]\u001b[A\n",
            "model-00002-of-00002.safetensors:  89% 3.25G/3.64G [01:00<00:05, 72.0MB/s]\u001b[A\n",
            "model-00002-of-00002.safetensors:  90% 3.26G/3.64G [01:01<00:06, 56.6MB/s]\u001b[A\n",
            "model-00002-of-00002.safetensors:  90% 3.27G/3.64G [01:01<00:05, 61.4MB/s]\u001b[A\n",
            "model-00002-of-00002.safetensors:  90% 3.28G/3.64G [01:01<00:05, 65.6MB/s]\u001b[A\n",
            "model-00002-of-00002.safetensors:  90% 3.29G/3.64G [01:01<00:05, 67.0MB/s]\u001b[A\n",
            "model-00002-of-00002.safetensors:  91% 3.30G/3.64G [01:01<00:04, 68.0MB/s]\u001b[A\n",
            "model-00002-of-00002.safetensors:  91% 3.31G/3.64G [01:01<00:05, 56.0MB/s]\u001b[A\n",
            "model-00002-of-00002.safetensors:  91% 3.32G/3.64G [01:02<00:05, 52.9MB/s]\u001b[A\n",
            "model-00002-of-00002.safetensors:  92% 3.33G/3.64G [01:02<00:05, 57.3MB/s]\u001b[A\n",
            "model-00002-of-00002.safetensors:  92% 3.34G/3.64G [01:02<00:04, 60.6MB/s]\u001b[A\n",
            "model-00002-of-00002.safetensors:  92% 3.36G/3.64G [01:02<00:04, 59.5MB/s]\u001b[A\n",
            "model-00002-of-00002.safetensors:  92% 3.37G/3.64G [01:02<00:04, 62.5MB/s]\u001b[A\n",
            "model-00002-of-00002.safetensors:  93% 3.38G/3.64G [01:02<00:04, 62.9MB/s]\u001b[A\n",
            "model-00002-of-00002.safetensors:  93% 3.39G/3.64G [01:03<00:03, 66.9MB/s]\u001b[A\n",
            "model-00002-of-00002.safetensors:  93% 3.40G/3.64G [01:03<00:03, 68.7MB/s]\u001b[A\n",
            "model-00002-of-00002.safetensors:  94% 3.41G/3.64G [01:03<00:03, 58.3MB/s]\u001b[A\n",
            "model-00002-of-00002.safetensors:  94% 3.42G/3.64G [01:03<00:03, 61.6MB/s]\u001b[A\n",
            "model-00002-of-00002.safetensors:  94% 3.43G/3.64G [01:03<00:03, 55.2MB/s]\u001b[A\n",
            "model-00002-of-00002.safetensors:  95% 3.44G/3.64G [01:03<00:03, 59.6MB/s]\u001b[A\n",
            "model-00002-of-00002.safetensors:  95% 3.45G/3.64G [01:04<00:03, 62.6MB/s]\u001b[A\n",
            "model-00002-of-00002.safetensors:  95% 3.46G/3.64G [01:04<00:02, 62.6MB/s]\u001b[A\n",
            "model-00002-of-00002.safetensors:  95% 3.47G/3.64G [01:04<00:02, 63.9MB/s]\u001b[A\n",
            "model-00002-of-00002.safetensors:  96% 3.48G/3.64G [01:04<00:02, 55.4MB/s]\u001b[A\n",
            "model-00002-of-00002.safetensors:  96% 3.49G/3.64G [01:04<00:02, 58.9MB/s]\u001b[A\n",
            "model-00002-of-00002.safetensors:  96% 3.50G/3.64G [01:04<00:02, 61.7MB/s]\u001b[A\n",
            "model-00002-of-00002.safetensors:  97% 3.51G/3.64G [01:05<00:02, 63.0MB/s]\u001b[A\n",
            "model-00002-of-00002.safetensors:  97% 3.52G/3.64G [01:05<00:01, 58.7MB/s]\u001b[A\n",
            "model-00002-of-00002.safetensors:  97% 3.53G/3.64G [01:05<00:01, 61.8MB/s]\u001b[A\n",
            "model-00002-of-00002.safetensors:  97% 3.54G/3.64G [01:05<00:01, 65.4MB/s]\u001b[A\n",
            "model-00002-of-00002.safetensors:  98% 3.55G/3.64G [01:05<00:01, 67.8MB/s]\u001b[A\n",
            "model-00002-of-00002.safetensors:  98% 3.57G/3.64G [01:05<00:01, 70.2MB/s]\u001b[A\n",
            "model-00002-of-00002.safetensors:  98% 3.58G/3.64G [01:06<00:00, 70.7MB/s]\u001b[A\n",
            "model-00002-of-00002.safetensors:  99% 3.59G/3.64G [01:06<00:00, 64.4MB/s]\u001b[A\n",
            "model-00002-of-00002.safetensors:  99% 3.60G/3.64G [01:06<00:00, 65.4MB/s]\u001b[A\n",
            "model-00002-of-00002.safetensors:  99% 3.61G/3.64G [01:06<00:00, 68.5MB/s]\u001b[A\n",
            "model-00002-of-00002.safetensors:  99% 3.62G/3.64G [01:06<00:00, 71.0MB/s]\u001b[A\n",
            "model-00002-of-00002.safetensors: 100% 3.63G/3.64G [01:06<00:00, 70.8MB/s]\u001b[A\n",
            "model-00002-of-00002.safetensors: 100% 3.64G/3.64G [01:07<00:00, 54.3MB/s]\n",
            "Fetching 2 files: 100% 2/2 [01:07<00:00, 33.58s/it]\n",
            "Loading checkpoint shards: 100% 2/2 [00:00<00:00,  2.25it/s]\n",
            "generation_config.json: 100% 215/215 [00:00<00:00, 1.48MB/s]\n",
            "tokenizer_config.json: 100% 1.16M/1.16M [00:00<00:00, 5.60MB/s]\n",
            "tokenizer.model: 100% 4.69M/4.69M [00:00<00:00, 61.3MB/s]\n",
            "tokenizer.json: 100% 33.4M/33.4M [00:00<00:00, 242MB/s]\n",
            "added_tokens.json: 100% 35.0/35.0 [00:00<00:00, 265kB/s]\n",
            "special_tokens_map.json: 100% 662/662 [00:00<00:00, 5.26MB/s]\n",
            "Device set to use cuda\n",
            "2025-04-23 06:39:16.838 Examining the path of torch.classes raised:\n",
            "Traceback (most recent call last):\n",
            "  File \"/usr/local/lib/python3.11/dist-packages/streamlit/web/bootstrap.py\", line 347, in run\n",
            "    if asyncio.get_running_loop().is_running():\n",
            "       ^^^^^^^^^^^^^^^^^^^^^^^^^^\n",
            "RuntimeError: no running event loop\n",
            "\n",
            "During handling of the above exception, another exception occurred:\n",
            "\n",
            "Traceback (most recent call last):\n",
            "  File \"/usr/local/lib/python3.11/dist-packages/streamlit/watcher/local_sources_watcher.py\", line 217, in get_module_paths\n",
            "    potential_paths = extract_paths(module)\n",
            "                      ^^^^^^^^^^^^^^^^^^^^^\n",
            "  File \"/usr/local/lib/python3.11/dist-packages/streamlit/watcher/local_sources_watcher.py\", line 210, in <lambda>\n",
            "    lambda m: list(m.__path__._path),\n",
            "                   ^^^^^^^^^^^^^^^^\n",
            "  File \"/usr/local/lib/python3.11/dist-packages/torch/_classes.py\", line 13, in __getattr__\n",
            "    proxy = torch._C._get_custom_class_python_wrapper(self.name, attr)\n",
            "            ^^^^^^^^^^^^^^^^^^^^^^^^^^^^^^^^^^^^^^^^^^^^^^^^^^^^^^^^^^\n",
            "RuntimeError: Tried to instantiate class '__path__._path', but it does not exist! Ensure that it is registered via torch::class_\n",
            "NLTK Punkt data checked/downloaded.\n",
            "Database 'chat_feedback.db' initialized successfully.\n",
            "NLTK Punkt data checked/downloaded.\n",
            "Database 'chat_feedback.db' initialized successfully.\n",
            "Generated response in 47.81s\n",
            "NLTK Punkt data checked/downloaded.\n",
            "Database 'chat_feedback.db' initialized successfully.\n",
            "NLTK Punkt data checked/downloaded.\n",
            "Database 'chat_feedback.db' initialized successfully.\n",
            "Data saved to DB successfully.\n",
            "NLTK Punkt data checked/downloaded.\n",
            "Database 'chat_feedback.db' initialized successfully.\n",
            "\u001b[34m  Stopping...\u001b[0m\n",
            "Traceback (most recent call last):\n",
            "  File \"/usr/local/lib/python3.11/dist-packages/streamlit/web/bootstrap.py\", line 347, in run\n",
            "    if asyncio.get_running_loop().is_running():\n",
            "       ^^^^^^^^^^^^^^^^^^^^^^^^^^\n",
            "RuntimeError: no running event loop\n",
            "\n",
            "During handling of the above exception, another exception occurred:\n",
            "\n",
            "Traceback (most recent call last):\n",
            "  File \"/usr/local/bin/streamlit\", line 8, in <module>\n",
            "    sys.exit(main())\n",
            "             ^^^^^^\n",
            "  File \"/usr/local/lib/python3.11/dist-packages/click/core.py\", line 1161, in __call__\n",
            "    return self.main(*args, **kwargs)\n",
            "           ^^^^^^^^^^^^^^^^^^^^^^^^^^\n",
            "  File \"/usr/local/lib/python3.11/dist-packages/click/core.py\", line 1082, in main\n",
            "    rv = self.invoke(ctx)\n",
            "         ^^^^^^^^^^^^^^^^\n",
            "  File \"/usr/local/lib/python3.11/dist-packages/click/core.py\", line 1697, in invoke\n",
            "    return _process_result(sub_ctx.command.invoke(sub_ctx))\n",
            "                           ^^^^^^^^^^^^^^^^^^^^^^^^^^^^^^^\n",
            "  File \"/usr/local/lib/python3.11/dist-packages/click/core.py\", line 1443, in invoke\n",
            "    return ctx.invoke(self.callback, **ctx.params)\n",
            "           ^^^^^^^^^^^^^^^^^^^^^^^^^^^^^^^^^^^^^^^\n",
            "  File \"/usr/local/lib/python3.11/dist-packages/click/core.py\", line 788, in invoke\n",
            "    return __callback(*args, **kwargs)\n",
            "           ^^^^^^^^^^^^^^^^^^^^^^^^^^^\n",
            "  File \"/usr/local/lib/python3.11/dist-packages/streamlit/web/cli.py\", line 240, in main_run\n",
            "    _main_run(target, args, flag_options=kwargs)\n",
            "  File \"/usr/local/lib/python3.11/dist-packages/streamlit/web/cli.py\", line 276, in _main_run\n",
            "    bootstrap.run(file, is_hello, args, flag_options)\n",
            "  File \"/usr/local/lib/python3.11/dist-packages/streamlit/web/bootstrap.py\", line 355, in run\n",
            "    asyncio.run(main())\n",
            "  File \"/usr/lib/python3.11/asyncio/runners.py\", line 190, in run\n",
            "    return runner.run(main)\n",
            "           ^^^^^^^^^^^^^^^^\n",
            "  File \"/usr/lib/python3.11/asyncio/runners.py\", line 118, in run\n",
            "    return self._loop.run_until_complete(task)\n",
            "           ^^^^^^^^^^^^^^^^^^^^^^^^^^^^^^^^^^^\n",
            "  File \"/usr/lib/python3.11/asyncio/base_events.py\", line 641, in run_until_complete\n",
            "    self.run_forever()\n",
            "  File \"/usr/lib/python3.11/asyncio/base_events.py\", line 608, in run_forever\n",
            "    self._run_once()\n",
            "  File \"/usr/lib/python3.11/asyncio/base_events.py\", line 1898, in _run_once\n",
            "    event_list = self._selector.select(timeout)\n",
            "                 ^^^^^^^^^^^^^^^^^^^^^^^^^^^^^^\n",
            "  File \"/usr/lib/python3.11/selectors.py\", line 468, in select\n",
            "    fd_event_list = self._selector.poll(timeout, max_ev)\n",
            "                    ^^^^^^^^^^^^^^^^^^^^^^^^^^^^^^^^^^^^\n",
            "  File \"/usr/local/lib/python3.11/dist-packages/streamlit/web/bootstrap.py\", line 44, in signal_handler\n",
            "    server.stop()\n",
            "  File \"/usr/local/lib/python3.11/dist-packages/streamlit/web/server/server.py\", line 469, in stop\n",
            "    cli_util.print_to_cli(\"  Stopping...\", fg=\"blue\")\n",
            "  File \"/usr/local/lib/python3.11/dist-packages/streamlit/cli_util.py\", line 34, in print_to_cli\n",
            "    click.secho(message, **kwargs)\n",
            "  File \"/usr/local/lib/python3.11/dist-packages/click/termui.py\", line 634, in secho\n",
            "    return echo(message, file=file, nl=nl, err=err, color=color)\n",
            "           ^^^^^^^^^^^^^^^^^^^^^^^^^^^^^^^^^^^^^^^^^^^^^^^^^^^^^\n",
            "  File \"/usr/local/lib/python3.11/dist-packages/click/utils.py\", line 318, in echo\n",
            "    file.write(out)  # type: ignore\n",
            "    ^^^^^^^^^^^^^^^\n",
            "  File \"/usr/local/lib/python3.11/dist-packages/wandb/sdk/lib/console_capture.py\", line 147, in write_with_callbacks\n",
            "    n = orig_write(s)\n",
            "        ^^^^^^^^^^^^^\n",
            "  File \"/usr/local/lib/python3.11/dist-packages/streamlit/web/bootstrap.py\", line 44, in signal_handler\n",
            "    server.stop()\n",
            "  File \"/usr/local/lib/python3.11/dist-packages/streamlit/web/server/server.py\", line 469, in stop\n",
            "    cli_util.print_to_cli(\"  Stopping...\", fg=\"blue\")\n",
            "  File \"/usr/local/lib/python3.11/dist-packages/streamlit/cli_util.py\", line 34, in print_to_cli\n",
            "    click.secho(message, **kwargs)\n",
            "  File \"/usr/local/lib/python3.11/dist-packages/click/termui.py\", line 634, in secho\n",
            "    return echo(message, file=file, nl=nl, err=err, color=color)\n",
            "           ^^^^^^^^^^^^^^^^^^^^^^^^^^^^^^^^^^^^^^^^^^^^^^^^^^^^^\n",
            "  File \"/usr/local/lib/python3.11/dist-packages/click/utils.py\", line 318, in echo\n",
            "    file.write(out)  # type: ignore\n",
            "    ^^^^^^^^^^^^^^^\n",
            "  File \"/usr/local/lib/python3.11/dist-packages/wandb/sdk/lib/console_capture.py\", line 147, in write_with_callbacks\n",
            "    n = orig_write(s)\n",
            "        ^^^^^^^^^^^^^\n",
            "RuntimeError: reentrant call inside <_io.BufferedWriter name='<stdout>'>\n",
            "^C\n"
          ]
        }
      ],
      "source": [
        "from pyngrok import ngrok\n",
        "\n",
        "public_url = ngrok.connect(8501).public_url\n",
        "print(f\"公開URL: {public_url}\")\n",
        "!streamlit run app.py"
      ]
    },
    {
      "cell_type": "markdown",
      "metadata": {
        "id": "Su0-hLfPM8gI"
      },
      "source": [
        "アプリケーションの機能としては、チャット機能や履歴閲覧があります。\n",
        "\n",
        "これらの機能を実現するためには、StreamlitによるUI部分だけではなく、SQLiteを使用したチャット履歴の保存やLLMのモデルを呼び出した推論などの処理を組み合わせることで実現しています。\n",
        "\n",
        "- **`app.py`**: アプリケーションのエントリーポイント。チャット機能、履歴閲覧、サンプルデータ管理のUIを提供します。\n",
        "- **`ui.py`**: チャットページや履歴閲覧ページなど、アプリケーションのUIロジックを管理します。\n",
        "- **`llm.py`**: LLMモデルのロードとテキスト生成を行うモジュール。\n",
        "- **`database.py`**: SQLiteデータベースを使用してチャット履歴やフィードバックを保存・管理します。\n",
        "- **`metrics.py`**: BLEUスコアやコサイン類似度など、回答の評価指標を計算するモジュール。\n",
        "- **`data.py`**: サンプルデータの作成やデータベースの初期化を行うモジュール。\n",
        "- **`config.py`**: アプリケーションの設定（モデル名やデータベースファイル名）を管理します。\n",
        "- **`requirements.txt`**: このアプリケーションを実行するために必要なPythonパッケージ。"
      ]
    },
    {
      "cell_type": "markdown",
      "metadata": {
        "id": "Xvm8sWFPELSP"
      },
      "source": [
        "後片付けとして、使う必要のないngrokのトンネルを削除します。"
      ]
    },
    {
      "cell_type": "code",
      "execution_count": 19,
      "metadata": {
        "id": "WFJC2TmZELSP"
      },
      "outputs": [],
      "source": [
        "from pyngrok import ngrok\n",
        "ngrok.kill()"
      ]
    },
    {
      "cell_type": "markdown",
      "metadata": {
        "id": "rUXhIzV7ELSP"
      },
      "source": [
        "# 03_FastAPI\n",
        "\n",
        "ディレクトリ「03_FastAPI」に移動します。"
      ]
    },
    {
      "cell_type": "code",
      "execution_count": 20,
      "metadata": {
        "id": "4ejjDLxr3kfC",
        "colab": {
          "base_uri": "https://localhost:8080/"
        },
        "outputId": "04c0b6c3-13dc-451e-e229-366dde05faf5"
      },
      "outputs": [
        {
          "output_type": "stream",
          "name": "stdout",
          "text": [
            "/content/lecture-ai-engineering/day1/03_FastAPI\n"
          ]
        }
      ],
      "source": [
        "%cd /content/lecture-ai-engineering/day1/03_FastAPI"
      ]
    },
    {
      "cell_type": "markdown",
      "metadata": {
        "id": "f45TDsNzELSQ"
      },
      "source": [
        "必要なライブラリをインストールします。"
      ]
    },
    {
      "cell_type": "code",
      "execution_count": 21,
      "metadata": {
        "id": "9uv6glCz5a7Z"
      },
      "outputs": [],
      "source": [
        "%%capture\n",
        "!pip install -r requirements.txt"
      ]
    },
    {
      "cell_type": "markdown",
      "metadata": {
        "id": "JfrmE2VmELSQ"
      },
      "source": [
        "ngrokとhuggigfaceのトークンを使用して、認証を行います。"
      ]
    },
    {
      "cell_type": "code",
      "execution_count": 22,
      "metadata": {
        "id": "ELzWhMFORRIO",
        "colab": {
          "base_uri": "https://localhost:8080/"
        },
        "outputId": "53356f90-294c-45ec-eda7-a1a9f1bd227e"
      },
      "outputs": [
        {
          "output_type": "stream",
          "name": "stdout",
          "text": [
            "Authtoken saved to configuration file: /root/.config/ngrok/ngrok.yml\n",
            "The token has not been saved to the git credentials helper. Pass `add_to_git_credential=True` in this function directly or `--add-to-git-credential` if using via `huggingface-cli` if you want to set the git credential as well.\n",
            "Token is valid (permission: read).\n",
            "The token `ai_development` has been saved to /root/.cache/huggingface/stored_tokens\n",
            "Your token has been saved to /root/.cache/huggingface/token\n",
            "Login successful.\n",
            "The current active token is: `ai_development`\n"
          ]
        }
      ],
      "source": [
        "!ngrok authtoken $$NGROK_TOKEN\n",
        "!huggingface-cli login --token $$HUGGINGFACE_TOKEN"
      ]
    },
    {
      "cell_type": "markdown",
      "metadata": {
        "id": "t-wztc2CELSQ"
      },
      "source": [
        "アプリを起動します。\n",
        "\n",
        "「02_streamlit_app」から続けて「03_FastAPI」を実行している場合は、モデルのダウンロードが済んでいるため、すぐにサービスが立ち上がります。\n",
        "\n",
        "「03_FastAPI」のみを実行している場合は、初回の起動時にモデルのダウンロードが始まるので、モデルのダウンロードが終わるまで数分間待ちましょう。"
      ]
    },
    {
      "cell_type": "code",
      "execution_count": null,
      "metadata": {
        "id": "meQ4SwISn3IQ",
        "colab": {
          "base_uri": "https://localhost:8080/"
        },
        "outputId": "db8012cb-24bd-445b-a8ae-b81d851faf5f"
      },
      "outputs": [
        {
          "output_type": "stream",
          "name": "stdout",
          "text": [
            "2025-04-23 06:45:21.367266: E external/local_xla/xla/stream_executor/cuda/cuda_fft.cc:477] Unable to register cuFFT factory: Attempting to register factory for plugin cuFFT when one has already been registered\n",
            "WARNING: All log messages before absl::InitializeLog() is called are written to STDERR\n",
            "E0000 00:00:1745390721.437047    3813 cuda_dnn.cc:8310] Unable to register cuDNN factory: Attempting to register factory for plugin cuDNN when one has already been registered\n",
            "E0000 00:00:1745390721.457992    3813 cuda_blas.cc:1418] Unable to register cuBLAS factory: Attempting to register factory for plugin cuBLAS when one has already been registered\n",
            "2025-04-23 06:45:21.557618: I tensorflow/core/platform/cpu_feature_guard.cc:210] This TensorFlow binary is optimized to use available CPU instructions in performance-critical operations.\n",
            "To enable the following instructions: AVX2 AVX512F FMA, in other operations, rebuild TensorFlow with the appropriate compiler flags.\n",
            "モデル名を設定: google/gemma-3-4b-it\n",
            "/content/lecture-ai-engineering/day1/03_FastAPI/app.py:134: DeprecationWarning: \n",
            "        on_event is deprecated, use lifespan event handlers instead.\n",
            "\n",
            "        Read more about it in the\n",
            "        [FastAPI docs for Lifespan Events](https://fastapi.tiangolo.com/advanced/events/).\n",
            "        \n",
            "  @app.on_event(\"startup\")\n",
            "FastAPIエンドポイントを定義しました。\n",
            "アクティブなngrokトンネルはありません。\n",
            "ポート8501に新しいngrokトンネルを開いています...\n",
            "---------------------------------------------------------------------\n",
            "✅ 公開URL:   https://306f-34-125-163-217.ngrok-free.app\n",
            "📖 APIドキュメント (Swagger UI): https://306f-34-125-163-217.ngrok-free.app/docs\n",
            "---------------------------------------------------------------------\n",
            "(APIクライアントやブラウザからアクセスするためにこのURLをコピーしてください)\n",
            "\u001b[32mINFO\u001b[0m:     Started server process [\u001b[36m3813\u001b[0m]\n",
            "\u001b[32mINFO\u001b[0m:     Waiting for application startup.\n",
            "load_model_task: モデルの読み込みを開始...\n",
            "使用デバイス: cuda\n",
            "Loading checkpoint shards: 100% 2/2 [00:01<00:00,  1.70it/s]\n",
            "Device set to use cuda\n",
            "モデル 'google/gemma-3-4b-it' の読み込みに成功しました\n",
            "load_model_task: モデルの読み込みが完了しました。\n",
            "起動時にモデルの初期化が完了しました。\n",
            "\u001b[32mINFO\u001b[0m:     Application startup complete.\n",
            "\u001b[32mINFO\u001b[0m:     Uvicorn running on \u001b[1mhttp://0.0.0.0:8501\u001b[0m (Press CTRL+C to quit)\n",
            "\u001b[32mINFO\u001b[0m:     133.19.169.3:0 - \"\u001b[1mGET / HTTP/1.1\u001b[0m\" \u001b[32m200 OK\u001b[0m\n",
            "\u001b[32mINFO\u001b[0m:     133.19.169.3:0 - \"\u001b[1mGET /favicon.ico HTTP/1.1\u001b[0m\" \u001b[31m404 Not Found\u001b[0m\n",
            "\u001b[32mINFO\u001b[0m:     133.19.169.3:0 - \"\u001b[1mGET /docs HTTP/1.1\u001b[0m\" \u001b[32m200 OK\u001b[0m\n",
            "\u001b[32mINFO\u001b[0m:     133.19.169.3:0 - \"\u001b[1mGET /openapi.json HTTP/1.1\u001b[0m\" \u001b[32m200 OK\u001b[0m\n"
          ]
        }
      ],
      "source": [
        "!python app.py"
      ]
    },
    {
      "cell_type": "markdown",
      "metadata": {
        "id": "RLubjIhbELSR"
      },
      "source": [
        "FastAPIが起動すると、APIとクライアントが通信するためのURL（エンドポイント）が作られます。\n",
        "\n",
        "URLが作られるのと合わせて、Swagger UIというWebインターフェースが作られます。\n",
        "\n",
        "Swagger UIにアクセスすることで、APIの仕様を確認できたり、APIをテストすることができます。\n",
        "\n",
        "Swagger UIを利用することで、APIを通してLLMを動かしてみましょう。"
      ]
    },
    {
      "cell_type": "markdown",
      "metadata": {
        "id": "XgumW3mGELSR"
      },
      "source": [
        "後片付けとして、使う必要のないngrokのトンネルを削除します。"
      ]
    },
    {
      "cell_type": "code",
      "execution_count": null,
      "metadata": {
        "id": "RJymTZio-WPJ"
      },
      "outputs": [],
      "source": [
        "from pyngrok import ngrok\n",
        "ngrok.kill()"
      ]
    }
  ],
  "metadata": {
    "colab": {
      "provenance": [],
      "gpuType": "T4",
      "include_colab_link": true
    },
    "kernelspec": {
      "display_name": "Python 3",
      "name": "python3"
    },
    "language_info": {
      "name": "python"
    },
    "accelerator": "GPU"
  },
  "nbformat": 4,
  "nbformat_minor": 0
}